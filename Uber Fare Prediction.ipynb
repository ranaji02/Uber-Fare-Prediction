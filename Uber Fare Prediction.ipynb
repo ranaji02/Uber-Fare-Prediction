{
 "cells": [
  {
   "cell_type": "markdown",
   "id": "6635f62b-4484-496a-ae6b-23c3463eb2c5",
   "metadata": {},
   "source": [
    "# Uber-Fare-Prediction"
   ]
  },
  {
   "cell_type": "markdown",
   "id": "0a8889d1-c924-4bfa-b431-d1f354fe101c",
   "metadata": {},
   "source": [
    "The main objective of project is to design an algorithm which will tell the fare to be charged for a passenger. Machine learning algorithms are used to develop a regression model.\n",
    "\n",
    "Problem Statement : The project is about on world's largest taxi company Uber inc. In these project we're looking to predict the fare for their future transactional cases. And this company deliever services to lakhs of customers daily. Now it becomes really important to manage their data properly to come up with new business ideas to get best results. So, it becomes really important to estimate the fare prices accurately."
   ]
  },
  {
   "cell_type": "markdown",
   "id": "40a9ffd2-5b36-4e79-8eb3-89fe1ef8757d",
   "metadata": {},
   "source": [
    "Predict the price of the Uber ride from a given pickup point to the agreed drop-off location. Perform following tasks:\n",
    "1. Pre-process the dataset.\n",
    "2. Identify outliers.\n",
    "3. Check the correlation.\n",
    "4. Implement linear regression and random forest regression models.\n",
    "5. Evaluate the models and compare their respective scores like R2, RMSE, etc. "
   ]
  },
  {
   "cell_type": "code",
   "execution_count": 1,
   "id": "09c7a46e-cbf5-41d2-867a-d9e77621fe48",
   "metadata": {},
   "outputs": [],
   "source": [
    "#importing libraries\n",
    "import pandas as pd\n",
    "import numpy as np\n",
    "import seaborn as sns\n",
    "import matplotlib.pyplot as plt"
   ]
  },
  {
   "cell_type": "code",
   "execution_count": 2,
   "id": "38546b65-838c-434e-b2c0-4fa8cbeb9206",
   "metadata": {},
   "outputs": [],
   "source": [
    "#importing the dataset\n",
    "df=pd.read_csv('uber.csv')"
   ]
  },
  {
   "cell_type": "markdown",
   "id": "a80bc616-67fe-49d3-9524-07c1c15fb2c5",
   "metadata": {},
   "source": [
    "### Pre-process the dataset"
   ]
  },
  {
   "cell_type": "code",
   "execution_count": 3,
   "id": "79e54a76-6dcd-43f1-b86b-1b10daf725ec",
   "metadata": {},
   "outputs": [
    {
     "data": {
      "text/html": [
       "<div>\n",
       "<style scoped>\n",
       "    .dataframe tbody tr th:only-of-type {\n",
       "        vertical-align: middle;\n",
       "    }\n",
       "\n",
       "    .dataframe tbody tr th {\n",
       "        vertical-align: top;\n",
       "    }\n",
       "\n",
       "    .dataframe thead th {\n",
       "        text-align: right;\n",
       "    }\n",
       "</style>\n",
       "<table border=\"1\" class=\"dataframe\">\n",
       "  <thead>\n",
       "    <tr style=\"text-align: right;\">\n",
       "      <th></th>\n",
       "      <th>Unnamed: 0</th>\n",
       "      <th>key</th>\n",
       "      <th>fare_amount</th>\n",
       "      <th>pickup_datetime</th>\n",
       "      <th>pickup_longitude</th>\n",
       "      <th>pickup_latitude</th>\n",
       "      <th>dropoff_longitude</th>\n",
       "      <th>dropoff_latitude</th>\n",
       "      <th>passenger_count</th>\n",
       "    </tr>\n",
       "  </thead>\n",
       "  <tbody>\n",
       "    <tr>\n",
       "      <th>0</th>\n",
       "      <td>24238194</td>\n",
       "      <td>2015-05-07 19:52:06.0000003</td>\n",
       "      <td>7.5</td>\n",
       "      <td>2015-05-07 19:52:06 UTC</td>\n",
       "      <td>-73.999817</td>\n",
       "      <td>40.738354</td>\n",
       "      <td>-73.999512</td>\n",
       "      <td>40.723217</td>\n",
       "      <td>1</td>\n",
       "    </tr>\n",
       "    <tr>\n",
       "      <th>1</th>\n",
       "      <td>27835199</td>\n",
       "      <td>2009-07-17 20:04:56.0000002</td>\n",
       "      <td>7.7</td>\n",
       "      <td>2009-07-17 20:04:56 UTC</td>\n",
       "      <td>-73.994355</td>\n",
       "      <td>40.728225</td>\n",
       "      <td>-73.994710</td>\n",
       "      <td>40.750325</td>\n",
       "      <td>1</td>\n",
       "    </tr>\n",
       "    <tr>\n",
       "      <th>2</th>\n",
       "      <td>44984355</td>\n",
       "      <td>2009-08-24 21:45:00.00000061</td>\n",
       "      <td>12.9</td>\n",
       "      <td>2009-08-24 21:45:00 UTC</td>\n",
       "      <td>-74.005043</td>\n",
       "      <td>40.740770</td>\n",
       "      <td>-73.962565</td>\n",
       "      <td>40.772647</td>\n",
       "      <td>1</td>\n",
       "    </tr>\n",
       "    <tr>\n",
       "      <th>3</th>\n",
       "      <td>25894730</td>\n",
       "      <td>2009-06-26 08:22:21.0000001</td>\n",
       "      <td>5.3</td>\n",
       "      <td>2009-06-26 08:22:21 UTC</td>\n",
       "      <td>-73.976124</td>\n",
       "      <td>40.790844</td>\n",
       "      <td>-73.965316</td>\n",
       "      <td>40.803349</td>\n",
       "      <td>3</td>\n",
       "    </tr>\n",
       "    <tr>\n",
       "      <th>4</th>\n",
       "      <td>17610152</td>\n",
       "      <td>2014-08-28 17:47:00.000000188</td>\n",
       "      <td>16.0</td>\n",
       "      <td>2014-08-28 17:47:00 UTC</td>\n",
       "      <td>-73.925023</td>\n",
       "      <td>40.744085</td>\n",
       "      <td>-73.973082</td>\n",
       "      <td>40.761247</td>\n",
       "      <td>5</td>\n",
       "    </tr>\n",
       "  </tbody>\n",
       "</table>\n",
       "</div>"
      ],
      "text/plain": [
       "   Unnamed: 0                            key  fare_amount  \\\n",
       "0    24238194    2015-05-07 19:52:06.0000003          7.5   \n",
       "1    27835199    2009-07-17 20:04:56.0000002          7.7   \n",
       "2    44984355   2009-08-24 21:45:00.00000061         12.9   \n",
       "3    25894730    2009-06-26 08:22:21.0000001          5.3   \n",
       "4    17610152  2014-08-28 17:47:00.000000188         16.0   \n",
       "\n",
       "           pickup_datetime  pickup_longitude  pickup_latitude  \\\n",
       "0  2015-05-07 19:52:06 UTC        -73.999817        40.738354   \n",
       "1  2009-07-17 20:04:56 UTC        -73.994355        40.728225   \n",
       "2  2009-08-24 21:45:00 UTC        -74.005043        40.740770   \n",
       "3  2009-06-26 08:22:21 UTC        -73.976124        40.790844   \n",
       "4  2014-08-28 17:47:00 UTC        -73.925023        40.744085   \n",
       "\n",
       "   dropoff_longitude  dropoff_latitude  passenger_count  \n",
       "0         -73.999512         40.723217                1  \n",
       "1         -73.994710         40.750325                1  \n",
       "2         -73.962565         40.772647                1  \n",
       "3         -73.965316         40.803349                3  \n",
       "4         -73.973082         40.761247                5  "
      ]
     },
     "execution_count": 3,
     "metadata": {},
     "output_type": "execute_result"
    }
   ],
   "source": [
    "#first 5 columns of the dataset\n",
    "df.head()"
   ]
  },
  {
   "cell_type": "code",
   "execution_count": 4,
   "id": "57abf7a9-37b5-4e1d-bcf7-6098ab7482cd",
   "metadata": {},
   "outputs": [
    {
     "data": {
      "text/plain": [
       "(200000, 9)"
      ]
     },
     "execution_count": 4,
     "metadata": {},
     "output_type": "execute_result"
    }
   ],
   "source": [
    "#shape of the dataset\n",
    "df.shape"
   ]
  },
  {
   "cell_type": "code",
   "execution_count": 5,
   "id": "84f819ae-623c-4d89-8b96-31e37b39e8bf",
   "metadata": {},
   "outputs": [
    {
     "name": "stdout",
     "output_type": "stream",
     "text": [
      "<class 'pandas.core.frame.DataFrame'>\n",
      "RangeIndex: 200000 entries, 0 to 199999\n",
      "Data columns (total 9 columns):\n",
      " #   Column             Non-Null Count   Dtype  \n",
      "---  ------             --------------   -----  \n",
      " 0   Unnamed: 0         200000 non-null  int64  \n",
      " 1   key                200000 non-null  object \n",
      " 2   fare_amount        200000 non-null  float64\n",
      " 3   pickup_datetime    200000 non-null  object \n",
      " 4   pickup_longitude   200000 non-null  float64\n",
      " 5   pickup_latitude    200000 non-null  float64\n",
      " 6   dropoff_longitude  199999 non-null  float64\n",
      " 7   dropoff_latitude   199999 non-null  float64\n",
      " 8   passenger_count    200000 non-null  int64  \n",
      "dtypes: float64(5), int64(2), object(2)\n",
      "memory usage: 13.7+ MB\n"
     ]
    }
   ],
   "source": [
    "# Info of the Dataset : Null-NotNull , Count , Datatypes\n",
    "df.info()"
   ]
  },
  {
   "cell_type": "code",
   "execution_count": 6,
   "id": "99658318-d4c5-4b36-970d-84f231043ea4",
   "metadata": {},
   "outputs": [
    {
     "data": {
      "text/html": [
       "<div>\n",
       "<style scoped>\n",
       "    .dataframe tbody tr th:only-of-type {\n",
       "        vertical-align: middle;\n",
       "    }\n",
       "\n",
       "    .dataframe tbody tr th {\n",
       "        vertical-align: top;\n",
       "    }\n",
       "\n",
       "    .dataframe thead th {\n",
       "        text-align: right;\n",
       "    }\n",
       "</style>\n",
       "<table border=\"1\" class=\"dataframe\">\n",
       "  <thead>\n",
       "    <tr style=\"text-align: right;\">\n",
       "      <th></th>\n",
       "      <th>Unnamed: 0</th>\n",
       "      <th>fare_amount</th>\n",
       "      <th>pickup_longitude</th>\n",
       "      <th>pickup_latitude</th>\n",
       "      <th>dropoff_longitude</th>\n",
       "      <th>dropoff_latitude</th>\n",
       "      <th>passenger_count</th>\n",
       "    </tr>\n",
       "  </thead>\n",
       "  <tbody>\n",
       "    <tr>\n",
       "      <th>count</th>\n",
       "      <td>2.000000e+05</td>\n",
       "      <td>200000.000000</td>\n",
       "      <td>200000.000000</td>\n",
       "      <td>200000.000000</td>\n",
       "      <td>199999.000000</td>\n",
       "      <td>199999.000000</td>\n",
       "      <td>200000.000000</td>\n",
       "    </tr>\n",
       "    <tr>\n",
       "      <th>mean</th>\n",
       "      <td>2.771250e+07</td>\n",
       "      <td>11.359955</td>\n",
       "      <td>-72.527638</td>\n",
       "      <td>39.935885</td>\n",
       "      <td>-72.525292</td>\n",
       "      <td>39.923890</td>\n",
       "      <td>1.684535</td>\n",
       "    </tr>\n",
       "    <tr>\n",
       "      <th>std</th>\n",
       "      <td>1.601382e+07</td>\n",
       "      <td>9.901776</td>\n",
       "      <td>11.437787</td>\n",
       "      <td>7.720539</td>\n",
       "      <td>13.117408</td>\n",
       "      <td>6.794829</td>\n",
       "      <td>1.385997</td>\n",
       "    </tr>\n",
       "    <tr>\n",
       "      <th>min</th>\n",
       "      <td>1.000000e+00</td>\n",
       "      <td>-52.000000</td>\n",
       "      <td>-1340.648410</td>\n",
       "      <td>-74.015515</td>\n",
       "      <td>-3356.666300</td>\n",
       "      <td>-881.985513</td>\n",
       "      <td>0.000000</td>\n",
       "    </tr>\n",
       "    <tr>\n",
       "      <th>25%</th>\n",
       "      <td>1.382535e+07</td>\n",
       "      <td>6.000000</td>\n",
       "      <td>-73.992065</td>\n",
       "      <td>40.734796</td>\n",
       "      <td>-73.991407</td>\n",
       "      <td>40.733823</td>\n",
       "      <td>1.000000</td>\n",
       "    </tr>\n",
       "    <tr>\n",
       "      <th>50%</th>\n",
       "      <td>2.774550e+07</td>\n",
       "      <td>8.500000</td>\n",
       "      <td>-73.981823</td>\n",
       "      <td>40.752592</td>\n",
       "      <td>-73.980093</td>\n",
       "      <td>40.753042</td>\n",
       "      <td>1.000000</td>\n",
       "    </tr>\n",
       "    <tr>\n",
       "      <th>75%</th>\n",
       "      <td>4.155530e+07</td>\n",
       "      <td>12.500000</td>\n",
       "      <td>-73.967154</td>\n",
       "      <td>40.767158</td>\n",
       "      <td>-73.963658</td>\n",
       "      <td>40.768001</td>\n",
       "      <td>2.000000</td>\n",
       "    </tr>\n",
       "    <tr>\n",
       "      <th>max</th>\n",
       "      <td>5.542357e+07</td>\n",
       "      <td>499.000000</td>\n",
       "      <td>57.418457</td>\n",
       "      <td>1644.421482</td>\n",
       "      <td>1153.572603</td>\n",
       "      <td>872.697628</td>\n",
       "      <td>208.000000</td>\n",
       "    </tr>\n",
       "  </tbody>\n",
       "</table>\n",
       "</div>"
      ],
      "text/plain": [
       "         Unnamed: 0    fare_amount  pickup_longitude  pickup_latitude  \\\n",
       "count  2.000000e+05  200000.000000     200000.000000    200000.000000   \n",
       "mean   2.771250e+07      11.359955        -72.527638        39.935885   \n",
       "std    1.601382e+07       9.901776         11.437787         7.720539   \n",
       "min    1.000000e+00     -52.000000      -1340.648410       -74.015515   \n",
       "25%    1.382535e+07       6.000000        -73.992065        40.734796   \n",
       "50%    2.774550e+07       8.500000        -73.981823        40.752592   \n",
       "75%    4.155530e+07      12.500000        -73.967154        40.767158   \n",
       "max    5.542357e+07     499.000000         57.418457      1644.421482   \n",
       "\n",
       "       dropoff_longitude  dropoff_latitude  passenger_count  \n",
       "count      199999.000000     199999.000000    200000.000000  \n",
       "mean          -72.525292         39.923890         1.684535  \n",
       "std            13.117408          6.794829         1.385997  \n",
       "min         -3356.666300       -881.985513         0.000000  \n",
       "25%           -73.991407         40.733823         1.000000  \n",
       "50%           -73.980093         40.753042         1.000000  \n",
       "75%           -73.963658         40.768001         2.000000  \n",
       "max          1153.572603        872.697628       208.000000  "
      ]
     },
     "execution_count": 6,
     "metadata": {},
     "output_type": "execute_result"
    }
   ],
   "source": [
    "# Describe : Min, Max, Std, Mean, Count, 25 Percentile, 50 Percentile , 75 Percentile\n",
    "df.describe()"
   ]
  },
  {
   "cell_type": "code",
   "execution_count": 7,
   "id": "ef2d4dbd-5245-43ab-b8b4-0be9c7dbb973",
   "metadata": {},
   "outputs": [
    {
     "data": {
      "text/plain": [
       "Index(['Unnamed: 0', 'key', 'fare_amount', 'pickup_datetime',\n",
       "       'pickup_longitude', 'pickup_latitude', 'dropoff_longitude',\n",
       "       'dropoff_latitude', 'passenger_count'],\n",
       "      dtype='object')"
      ]
     },
     "execution_count": 7,
     "metadata": {},
     "output_type": "execute_result"
    }
   ],
   "source": [
    "#column names and no. of columns\n",
    "df.columns"
   ]
  },
  {
   "cell_type": "code",
   "execution_count": 8,
   "id": "44b8e0c0-6637-40bc-a743-4403fee8ccdc",
   "metadata": {},
   "outputs": [],
   "source": [
    "# drop unnamed & key column as it is not required\n",
    "df=df.drop(['Unnamed: 0','key'],axis=1)"
   ]
  },
  {
   "cell_type": "code",
   "execution_count": 9,
   "id": "3047b9f7-90ef-4276-8fb5-0fe17f3f7b8b",
   "metadata": {},
   "outputs": [
    {
     "data": {
      "text/html": [
       "<div>\n",
       "<style scoped>\n",
       "    .dataframe tbody tr th:only-of-type {\n",
       "        vertical-align: middle;\n",
       "    }\n",
       "\n",
       "    .dataframe tbody tr th {\n",
       "        vertical-align: top;\n",
       "    }\n",
       "\n",
       "    .dataframe thead th {\n",
       "        text-align: right;\n",
       "    }\n",
       "</style>\n",
       "<table border=\"1\" class=\"dataframe\">\n",
       "  <thead>\n",
       "    <tr style=\"text-align: right;\">\n",
       "      <th></th>\n",
       "      <th>fare_amount</th>\n",
       "      <th>pickup_datetime</th>\n",
       "      <th>pickup_longitude</th>\n",
       "      <th>pickup_latitude</th>\n",
       "      <th>dropoff_longitude</th>\n",
       "      <th>dropoff_latitude</th>\n",
       "      <th>passenger_count</th>\n",
       "    </tr>\n",
       "  </thead>\n",
       "  <tbody>\n",
       "    <tr>\n",
       "      <th>0</th>\n",
       "      <td>7.5</td>\n",
       "      <td>2015-05-07 19:52:06 UTC</td>\n",
       "      <td>-73.999817</td>\n",
       "      <td>40.738354</td>\n",
       "      <td>-73.999512</td>\n",
       "      <td>40.723217</td>\n",
       "      <td>1</td>\n",
       "    </tr>\n",
       "    <tr>\n",
       "      <th>1</th>\n",
       "      <td>7.7</td>\n",
       "      <td>2009-07-17 20:04:56 UTC</td>\n",
       "      <td>-73.994355</td>\n",
       "      <td>40.728225</td>\n",
       "      <td>-73.994710</td>\n",
       "      <td>40.750325</td>\n",
       "      <td>1</td>\n",
       "    </tr>\n",
       "    <tr>\n",
       "      <th>2</th>\n",
       "      <td>12.9</td>\n",
       "      <td>2009-08-24 21:45:00 UTC</td>\n",
       "      <td>-74.005043</td>\n",
       "      <td>40.740770</td>\n",
       "      <td>-73.962565</td>\n",
       "      <td>40.772647</td>\n",
       "      <td>1</td>\n",
       "    </tr>\n",
       "    <tr>\n",
       "      <th>3</th>\n",
       "      <td>5.3</td>\n",
       "      <td>2009-06-26 08:22:21 UTC</td>\n",
       "      <td>-73.976124</td>\n",
       "      <td>40.790844</td>\n",
       "      <td>-73.965316</td>\n",
       "      <td>40.803349</td>\n",
       "      <td>3</td>\n",
       "    </tr>\n",
       "    <tr>\n",
       "      <th>4</th>\n",
       "      <td>16.0</td>\n",
       "      <td>2014-08-28 17:47:00 UTC</td>\n",
       "      <td>-73.925023</td>\n",
       "      <td>40.744085</td>\n",
       "      <td>-73.973082</td>\n",
       "      <td>40.761247</td>\n",
       "      <td>5</td>\n",
       "    </tr>\n",
       "  </tbody>\n",
       "</table>\n",
       "</div>"
      ],
      "text/plain": [
       "   fare_amount          pickup_datetime  pickup_longitude  pickup_latitude  \\\n",
       "0          7.5  2015-05-07 19:52:06 UTC        -73.999817        40.738354   \n",
       "1          7.7  2009-07-17 20:04:56 UTC        -73.994355        40.728225   \n",
       "2         12.9  2009-08-24 21:45:00 UTC        -74.005043        40.740770   \n",
       "3          5.3  2009-06-26 08:22:21 UTC        -73.976124        40.790844   \n",
       "4         16.0  2014-08-28 17:47:00 UTC        -73.925023        40.744085   \n",
       "\n",
       "   dropoff_longitude  dropoff_latitude  passenger_count  \n",
       "0         -73.999512         40.723217                1  \n",
       "1         -73.994710         40.750325                1  \n",
       "2         -73.962565         40.772647                1  \n",
       "3         -73.965316         40.803349                3  \n",
       "4         -73.973082         40.761247                5  "
      ]
     },
     "execution_count": 9,
     "metadata": {},
     "output_type": "execute_result"
    }
   ],
   "source": [
    "df.head()"
   ]
  },
  {
   "cell_type": "code",
   "execution_count": 10,
   "id": "e6a28e58-7448-43e1-ae40-d5e74a88de59",
   "metadata": {},
   "outputs": [
    {
     "data": {
      "text/plain": [
       "fare_amount          float64\n",
       "pickup_datetime       object\n",
       "pickup_longitude     float64\n",
       "pickup_latitude      float64\n",
       "dropoff_longitude    float64\n",
       "dropoff_latitude     float64\n",
       "passenger_count        int64\n",
       "dtype: object"
      ]
     },
     "execution_count": 10,
     "metadata": {},
     "output_type": "execute_result"
    }
   ],
   "source": [
    "df.dtypes"
   ]
  },
  {
   "cell_type": "code",
   "execution_count": 11,
   "id": "bffeba4f-bdd7-41eb-9985-bca483832214",
   "metadata": {},
   "outputs": [
    {
     "name": "stdout",
     "output_type": "stream",
     "text": [
      "<class 'pandas.core.frame.DataFrame'>\n",
      "RangeIndex: 200000 entries, 0 to 199999\n",
      "Data columns (total 7 columns):\n",
      " #   Column             Non-Null Count   Dtype  \n",
      "---  ------             --------------   -----  \n",
      " 0   fare_amount        200000 non-null  float64\n",
      " 1   pickup_datetime    200000 non-null  object \n",
      " 2   pickup_longitude   200000 non-null  float64\n",
      " 3   pickup_latitude    200000 non-null  float64\n",
      " 4   dropoff_longitude  199999 non-null  float64\n",
      " 5   dropoff_latitude   199999 non-null  float64\n",
      " 6   passenger_count    200000 non-null  int64  \n",
      "dtypes: float64(5), int64(1), object(1)\n",
      "memory usage: 10.7+ MB\n"
     ]
    }
   ],
   "source": [
    "df.info()"
   ]
  },
  {
   "cell_type": "markdown",
   "id": "f16551d8-93d9-4322-8c0a-10ab369da775",
   "metadata": {},
   "source": [
    "#### Filling missing values"
   ]
  },
  {
   "cell_type": "code",
   "execution_count": 12,
   "id": "68203790-8bd2-440a-b944-fb402543c5aa",
   "metadata": {},
   "outputs": [
    {
     "data": {
      "text/html": [
       "<div>\n",
       "<style scoped>\n",
       "    .dataframe tbody tr th:only-of-type {\n",
       "        vertical-align: middle;\n",
       "    }\n",
       "\n",
       "    .dataframe tbody tr th {\n",
       "        vertical-align: top;\n",
       "    }\n",
       "\n",
       "    .dataframe thead th {\n",
       "        text-align: right;\n",
       "    }\n",
       "</style>\n",
       "<table border=\"1\" class=\"dataframe\">\n",
       "  <thead>\n",
       "    <tr style=\"text-align: right;\">\n",
       "      <th></th>\n",
       "      <th>fare_amount</th>\n",
       "      <th>pickup_datetime</th>\n",
       "      <th>pickup_longitude</th>\n",
       "      <th>pickup_latitude</th>\n",
       "      <th>dropoff_longitude</th>\n",
       "      <th>dropoff_latitude</th>\n",
       "      <th>passenger_count</th>\n",
       "    </tr>\n",
       "  </thead>\n",
       "  <tbody>\n",
       "    <tr>\n",
       "      <th>0</th>\n",
       "      <td>False</td>\n",
       "      <td>False</td>\n",
       "      <td>False</td>\n",
       "      <td>False</td>\n",
       "      <td>False</td>\n",
       "      <td>False</td>\n",
       "      <td>False</td>\n",
       "    </tr>\n",
       "    <tr>\n",
       "      <th>1</th>\n",
       "      <td>False</td>\n",
       "      <td>False</td>\n",
       "      <td>False</td>\n",
       "      <td>False</td>\n",
       "      <td>False</td>\n",
       "      <td>False</td>\n",
       "      <td>False</td>\n",
       "    </tr>\n",
       "    <tr>\n",
       "      <th>2</th>\n",
       "      <td>False</td>\n",
       "      <td>False</td>\n",
       "      <td>False</td>\n",
       "      <td>False</td>\n",
       "      <td>False</td>\n",
       "      <td>False</td>\n",
       "      <td>False</td>\n",
       "    </tr>\n",
       "    <tr>\n",
       "      <th>3</th>\n",
       "      <td>False</td>\n",
       "      <td>False</td>\n",
       "      <td>False</td>\n",
       "      <td>False</td>\n",
       "      <td>False</td>\n",
       "      <td>False</td>\n",
       "      <td>False</td>\n",
       "    </tr>\n",
       "    <tr>\n",
       "      <th>4</th>\n",
       "      <td>False</td>\n",
       "      <td>False</td>\n",
       "      <td>False</td>\n",
       "      <td>False</td>\n",
       "      <td>False</td>\n",
       "      <td>False</td>\n",
       "      <td>False</td>\n",
       "    </tr>\n",
       "    <tr>\n",
       "      <th>...</th>\n",
       "      <td>...</td>\n",
       "      <td>...</td>\n",
       "      <td>...</td>\n",
       "      <td>...</td>\n",
       "      <td>...</td>\n",
       "      <td>...</td>\n",
       "      <td>...</td>\n",
       "    </tr>\n",
       "    <tr>\n",
       "      <th>199995</th>\n",
       "      <td>False</td>\n",
       "      <td>False</td>\n",
       "      <td>False</td>\n",
       "      <td>False</td>\n",
       "      <td>False</td>\n",
       "      <td>False</td>\n",
       "      <td>False</td>\n",
       "    </tr>\n",
       "    <tr>\n",
       "      <th>199996</th>\n",
       "      <td>False</td>\n",
       "      <td>False</td>\n",
       "      <td>False</td>\n",
       "      <td>False</td>\n",
       "      <td>False</td>\n",
       "      <td>False</td>\n",
       "      <td>False</td>\n",
       "    </tr>\n",
       "    <tr>\n",
       "      <th>199997</th>\n",
       "      <td>False</td>\n",
       "      <td>False</td>\n",
       "      <td>False</td>\n",
       "      <td>False</td>\n",
       "      <td>False</td>\n",
       "      <td>False</td>\n",
       "      <td>False</td>\n",
       "    </tr>\n",
       "    <tr>\n",
       "      <th>199998</th>\n",
       "      <td>False</td>\n",
       "      <td>False</td>\n",
       "      <td>False</td>\n",
       "      <td>False</td>\n",
       "      <td>False</td>\n",
       "      <td>False</td>\n",
       "      <td>False</td>\n",
       "    </tr>\n",
       "    <tr>\n",
       "      <th>199999</th>\n",
       "      <td>False</td>\n",
       "      <td>False</td>\n",
       "      <td>False</td>\n",
       "      <td>False</td>\n",
       "      <td>False</td>\n",
       "      <td>False</td>\n",
       "      <td>False</td>\n",
       "    </tr>\n",
       "  </tbody>\n",
       "</table>\n",
       "<p>200000 rows × 7 columns</p>\n",
       "</div>"
      ],
      "text/plain": [
       "        fare_amount  pickup_datetime  pickup_longitude  pickup_latitude  \\\n",
       "0             False            False             False            False   \n",
       "1             False            False             False            False   \n",
       "2             False            False             False            False   \n",
       "3             False            False             False            False   \n",
       "4             False            False             False            False   \n",
       "...             ...              ...               ...              ...   \n",
       "199995        False            False             False            False   \n",
       "199996        False            False             False            False   \n",
       "199997        False            False             False            False   \n",
       "199998        False            False             False            False   \n",
       "199999        False            False             False            False   \n",
       "\n",
       "        dropoff_longitude  dropoff_latitude  passenger_count  \n",
       "0                   False             False            False  \n",
       "1                   False             False            False  \n",
       "2                   False             False            False  \n",
       "3                   False             False            False  \n",
       "4                   False             False            False  \n",
       "...                   ...               ...              ...  \n",
       "199995              False             False            False  \n",
       "199996              False             False            False  \n",
       "199997              False             False            False  \n",
       "199998              False             False            False  \n",
       "199999              False             False            False  \n",
       "\n",
       "[200000 rows x 7 columns]"
      ]
     },
     "execution_count": 12,
     "metadata": {},
     "output_type": "execute_result"
    }
   ],
   "source": [
    "# value : present- False , absent- True\n",
    "df.isnull()"
   ]
  },
  {
   "cell_type": "code",
   "execution_count": 13,
   "id": "fd8fd9e9-90d7-46ad-a0f8-065f283f1604",
   "metadata": {},
   "outputs": [
    {
     "data": {
      "text/plain": [
       "fare_amount          0\n",
       "pickup_datetime      0\n",
       "pickup_longitude     0\n",
       "pickup_latitude      0\n",
       "dropoff_longitude    1\n",
       "dropoff_latitude     1\n",
       "passenger_count      0\n",
       "dtype: int64"
      ]
     },
     "execution_count": 13,
     "metadata": {},
     "output_type": "execute_result"
    }
   ],
   "source": [
    "#checking the null value in the dataset\n",
    "df.isnull().sum()"
   ]
  },
  {
   "cell_type": "code",
   "execution_count": 14,
   "id": "f0e5a8e4-2e26-4e45-a3fc-b60ffc57dff6",
   "metadata": {},
   "outputs": [
    {
     "data": {
      "text/plain": [
       "2"
      ]
     },
     "execution_count": 14,
     "metadata": {},
     "output_type": "execute_result"
    }
   ],
   "source": [
    "df.isnull().sum().sum()"
   ]
  },
  {
   "cell_type": "code",
   "execution_count": 15,
   "id": "eba1b599-e762-47c6-9585-344aa4dc04d3",
   "metadata": {},
   "outputs": [],
   "source": [
    "#filling or replacing the null value with the mean of the column\n",
    "df['dropoff_longitude'].fillna(value=df['dropoff_longitude'].mean(), inplace=True)\n",
    "df['dropoff_latitude'].fillna(value=df['dropoff_latitude'].mean(), inplace=True)"
   ]
  },
  {
   "cell_type": "code",
   "execution_count": 16,
   "id": "5ac9a01a-b9b9-4914-8263-de5a3d95336b",
   "metadata": {},
   "outputs": [
    {
     "data": {
      "text/plain": [
       "fare_amount          0\n",
       "pickup_datetime      0\n",
       "pickup_longitude     0\n",
       "pickup_latitude      0\n",
       "dropoff_longitude    0\n",
       "dropoff_latitude     0\n",
       "passenger_count      0\n",
       "dtype: int64"
      ]
     },
     "execution_count": 16,
     "metadata": {},
     "output_type": "execute_result"
    }
   ],
   "source": [
    "df.isnull().sum()"
   ]
  },
  {
   "cell_type": "code",
   "execution_count": 17,
   "id": "b57f01af-7099-4c2b-8fe5-2a0f6a11199f",
   "metadata": {},
   "outputs": [
    {
     "data": {
      "text/plain": [
       "fare_amount          float64\n",
       "pickup_datetime       object\n",
       "pickup_longitude     float64\n",
       "pickup_latitude      float64\n",
       "dropoff_longitude    float64\n",
       "dropoff_latitude     float64\n",
       "passenger_count        int64\n",
       "dtype: object"
      ]
     },
     "execution_count": 17,
     "metadata": {},
     "output_type": "execute_result"
    }
   ],
   "source": [
    "df.dtypes"
   ]
  },
  {
   "cell_type": "markdown",
   "id": "d7c733af-2e84-435b-8b42-5a21dbaf5ae0",
   "metadata": {},
   "source": [
    "##### pickup_datetime - object (wrong format) : converting the pickup_datetime to datetime format"
   ]
  },
  {
   "cell_type": "code",
   "execution_count": 18,
   "id": "9c741433-14fd-4e3d-a11e-12ad3ca4caa8",
   "metadata": {},
   "outputs": [],
   "source": [
    "# errors : {'ignore', 'coerce', 'raise'} default-'raise'\n",
    "# raise: invalid parsing will raise an exception\n",
    "# coerce: invalid parsing will set or replace as null value\n",
    "# ignore: invalid parsing will return the input or directly ignore\n",
    "df.pickup_datetime = pd.to_datetime(df.pickup_datetime , errors = 'coerce', utc=True)"
   ]
  },
  {
   "cell_type": "code",
   "execution_count": 19,
   "id": "5f6db070-1dfe-4d30-b737-36d971757ba6",
   "metadata": {},
   "outputs": [
    {
     "data": {
      "text/plain": [
       "fare_amount                      float64\n",
       "pickup_datetime      datetime64[ns, UTC]\n",
       "pickup_longitude                 float64\n",
       "pickup_latitude                  float64\n",
       "dropoff_longitude                float64\n",
       "dropoff_latitude                 float64\n",
       "passenger_count                    int64\n",
       "dtype: object"
      ]
     },
     "execution_count": 19,
     "metadata": {},
     "output_type": "execute_result"
    }
   ],
   "source": [
    "df.dtypes"
   ]
  },
  {
   "cell_type": "code",
   "execution_count": 20,
   "id": "f5a8a5bf-edbd-4357-a426-b26207b5a63e",
   "metadata": {},
   "outputs": [
    {
     "data": {
      "text/html": [
       "<div>\n",
       "<style scoped>\n",
       "    .dataframe tbody tr th:only-of-type {\n",
       "        vertical-align: middle;\n",
       "    }\n",
       "\n",
       "    .dataframe tbody tr th {\n",
       "        vertical-align: top;\n",
       "    }\n",
       "\n",
       "    .dataframe thead th {\n",
       "        text-align: right;\n",
       "    }\n",
       "</style>\n",
       "<table border=\"1\" class=\"dataframe\">\n",
       "  <thead>\n",
       "    <tr style=\"text-align: right;\">\n",
       "      <th></th>\n",
       "      <th>fare_amount</th>\n",
       "      <th>pickup_datetime</th>\n",
       "      <th>pickup_longitude</th>\n",
       "      <th>pickup_latitude</th>\n",
       "      <th>dropoff_longitude</th>\n",
       "      <th>dropoff_latitude</th>\n",
       "      <th>passenger_count</th>\n",
       "    </tr>\n",
       "  </thead>\n",
       "  <tbody>\n",
       "    <tr>\n",
       "      <th>0</th>\n",
       "      <td>7.5</td>\n",
       "      <td>2015-05-07 19:52:06+00:00</td>\n",
       "      <td>-73.999817</td>\n",
       "      <td>40.738354</td>\n",
       "      <td>-73.999512</td>\n",
       "      <td>40.723217</td>\n",
       "      <td>1</td>\n",
       "    </tr>\n",
       "    <tr>\n",
       "      <th>1</th>\n",
       "      <td>7.7</td>\n",
       "      <td>2009-07-17 20:04:56+00:00</td>\n",
       "      <td>-73.994355</td>\n",
       "      <td>40.728225</td>\n",
       "      <td>-73.994710</td>\n",
       "      <td>40.750325</td>\n",
       "      <td>1</td>\n",
       "    </tr>\n",
       "    <tr>\n",
       "      <th>2</th>\n",
       "      <td>12.9</td>\n",
       "      <td>2009-08-24 21:45:00+00:00</td>\n",
       "      <td>-74.005043</td>\n",
       "      <td>40.740770</td>\n",
       "      <td>-73.962565</td>\n",
       "      <td>40.772647</td>\n",
       "      <td>1</td>\n",
       "    </tr>\n",
       "    <tr>\n",
       "      <th>3</th>\n",
       "      <td>5.3</td>\n",
       "      <td>2009-06-26 08:22:21+00:00</td>\n",
       "      <td>-73.976124</td>\n",
       "      <td>40.790844</td>\n",
       "      <td>-73.965316</td>\n",
       "      <td>40.803349</td>\n",
       "      <td>3</td>\n",
       "    </tr>\n",
       "    <tr>\n",
       "      <th>4</th>\n",
       "      <td>16.0</td>\n",
       "      <td>2014-08-28 17:47:00+00:00</td>\n",
       "      <td>-73.925023</td>\n",
       "      <td>40.744085</td>\n",
       "      <td>-73.973082</td>\n",
       "      <td>40.761247</td>\n",
       "      <td>5</td>\n",
       "    </tr>\n",
       "  </tbody>\n",
       "</table>\n",
       "</div>"
      ],
      "text/plain": [
       "   fare_amount           pickup_datetime  pickup_longitude  pickup_latitude  \\\n",
       "0          7.5 2015-05-07 19:52:06+00:00        -73.999817        40.738354   \n",
       "1          7.7 2009-07-17 20:04:56+00:00        -73.994355        40.728225   \n",
       "2         12.9 2009-08-24 21:45:00+00:00        -74.005043        40.740770   \n",
       "3          5.3 2009-06-26 08:22:21+00:00        -73.976124        40.790844   \n",
       "4         16.0 2014-08-28 17:47:00+00:00        -73.925023        40.744085   \n",
       "\n",
       "   dropoff_longitude  dropoff_latitude  passenger_count  \n",
       "0         -73.999512         40.723217                1  \n",
       "1         -73.994710         40.750325                1  \n",
       "2         -73.962565         40.772647                1  \n",
       "3         -73.965316         40.803349                3  \n",
       "4         -73.973082         40.761247                5  "
      ]
     },
     "execution_count": 20,
     "metadata": {},
     "output_type": "execute_result"
    }
   ],
   "source": [
    "df.head()"
   ]
  },
  {
   "cell_type": "code",
   "execution_count": 21,
   "id": "114a9e97-e79e-49da-bd4b-c5d32a5f1d9f",
   "metadata": {},
   "outputs": [],
   "source": [
    "df=df.assign(hour=df.pickup_datetime.dt.hour,\n",
    "             day=df.pickup_datetime.dt.day,\n",
    "             month=df.pickup_datetime.dt.month,\n",
    "             year=df.pickup_datetime.dt.year,\n",
    "             dayofweek=df.pickup_datetime.dt.dayofweek,\n",
    "             dayName=df.pickup_datetime.dt.day_name()\n",
    "            )"
   ]
  },
  {
   "cell_type": "code",
   "execution_count": 22,
   "id": "468abc48-8f26-4ffd-86c1-0e2ae421c428",
   "metadata": {},
   "outputs": [
    {
     "data": {
      "text/html": [
       "<div>\n",
       "<style scoped>\n",
       "    .dataframe tbody tr th:only-of-type {\n",
       "        vertical-align: middle;\n",
       "    }\n",
       "\n",
       "    .dataframe tbody tr th {\n",
       "        vertical-align: top;\n",
       "    }\n",
       "\n",
       "    .dataframe thead th {\n",
       "        text-align: right;\n",
       "    }\n",
       "</style>\n",
       "<table border=\"1\" class=\"dataframe\">\n",
       "  <thead>\n",
       "    <tr style=\"text-align: right;\">\n",
       "      <th></th>\n",
       "      <th>fare_amount</th>\n",
       "      <th>pickup_datetime</th>\n",
       "      <th>pickup_longitude</th>\n",
       "      <th>pickup_latitude</th>\n",
       "      <th>dropoff_longitude</th>\n",
       "      <th>dropoff_latitude</th>\n",
       "      <th>passenger_count</th>\n",
       "      <th>hour</th>\n",
       "      <th>day</th>\n",
       "      <th>month</th>\n",
       "      <th>year</th>\n",
       "      <th>dayofweek</th>\n",
       "      <th>dayName</th>\n",
       "    </tr>\n",
       "  </thead>\n",
       "  <tbody>\n",
       "    <tr>\n",
       "      <th>0</th>\n",
       "      <td>7.5</td>\n",
       "      <td>2015-05-07 19:52:06+00:00</td>\n",
       "      <td>-73.999817</td>\n",
       "      <td>40.738354</td>\n",
       "      <td>-73.999512</td>\n",
       "      <td>40.723217</td>\n",
       "      <td>1</td>\n",
       "      <td>19</td>\n",
       "      <td>7</td>\n",
       "      <td>5</td>\n",
       "      <td>2015</td>\n",
       "      <td>3</td>\n",
       "      <td>Thursday</td>\n",
       "    </tr>\n",
       "    <tr>\n",
       "      <th>1</th>\n",
       "      <td>7.7</td>\n",
       "      <td>2009-07-17 20:04:56+00:00</td>\n",
       "      <td>-73.994355</td>\n",
       "      <td>40.728225</td>\n",
       "      <td>-73.994710</td>\n",
       "      <td>40.750325</td>\n",
       "      <td>1</td>\n",
       "      <td>20</td>\n",
       "      <td>17</td>\n",
       "      <td>7</td>\n",
       "      <td>2009</td>\n",
       "      <td>4</td>\n",
       "      <td>Friday</td>\n",
       "    </tr>\n",
       "    <tr>\n",
       "      <th>2</th>\n",
       "      <td>12.9</td>\n",
       "      <td>2009-08-24 21:45:00+00:00</td>\n",
       "      <td>-74.005043</td>\n",
       "      <td>40.740770</td>\n",
       "      <td>-73.962565</td>\n",
       "      <td>40.772647</td>\n",
       "      <td>1</td>\n",
       "      <td>21</td>\n",
       "      <td>24</td>\n",
       "      <td>8</td>\n",
       "      <td>2009</td>\n",
       "      <td>0</td>\n",
       "      <td>Monday</td>\n",
       "    </tr>\n",
       "    <tr>\n",
       "      <th>3</th>\n",
       "      <td>5.3</td>\n",
       "      <td>2009-06-26 08:22:21+00:00</td>\n",
       "      <td>-73.976124</td>\n",
       "      <td>40.790844</td>\n",
       "      <td>-73.965316</td>\n",
       "      <td>40.803349</td>\n",
       "      <td>3</td>\n",
       "      <td>8</td>\n",
       "      <td>26</td>\n",
       "      <td>6</td>\n",
       "      <td>2009</td>\n",
       "      <td>4</td>\n",
       "      <td>Friday</td>\n",
       "    </tr>\n",
       "    <tr>\n",
       "      <th>4</th>\n",
       "      <td>16.0</td>\n",
       "      <td>2014-08-28 17:47:00+00:00</td>\n",
       "      <td>-73.925023</td>\n",
       "      <td>40.744085</td>\n",
       "      <td>-73.973082</td>\n",
       "      <td>40.761247</td>\n",
       "      <td>5</td>\n",
       "      <td>17</td>\n",
       "      <td>28</td>\n",
       "      <td>8</td>\n",
       "      <td>2014</td>\n",
       "      <td>3</td>\n",
       "      <td>Thursday</td>\n",
       "    </tr>\n",
       "  </tbody>\n",
       "</table>\n",
       "</div>"
      ],
      "text/plain": [
       "   fare_amount           pickup_datetime  pickup_longitude  pickup_latitude  \\\n",
       "0          7.5 2015-05-07 19:52:06+00:00        -73.999817        40.738354   \n",
       "1          7.7 2009-07-17 20:04:56+00:00        -73.994355        40.728225   \n",
       "2         12.9 2009-08-24 21:45:00+00:00        -74.005043        40.740770   \n",
       "3          5.3 2009-06-26 08:22:21+00:00        -73.976124        40.790844   \n",
       "4         16.0 2014-08-28 17:47:00+00:00        -73.925023        40.744085   \n",
       "\n",
       "   dropoff_longitude  dropoff_latitude  passenger_count  hour  day  month  \\\n",
       "0         -73.999512         40.723217                1    19    7      5   \n",
       "1         -73.994710         40.750325                1    20   17      7   \n",
       "2         -73.962565         40.772647                1    21   24      8   \n",
       "3         -73.965316         40.803349                3     8   26      6   \n",
       "4         -73.973082         40.761247                5    17   28      8   \n",
       "\n",
       "   year  dayofweek   dayName  \n",
       "0  2015          3  Thursday  \n",
       "1  2009          4    Friday  \n",
       "2  2009          0    Monday  \n",
       "3  2009          4    Friday  \n",
       "4  2014          3  Thursday  "
      ]
     },
     "execution_count": 22,
     "metadata": {},
     "output_type": "execute_result"
    }
   ],
   "source": [
    "df.head()"
   ]
  },
  {
   "cell_type": "code",
   "execution_count": 23,
   "id": "ae9af52f-bf05-4ce7-b1d4-5da5b3335b03",
   "metadata": {},
   "outputs": [
    {
     "data": {
      "text/html": [
       "<div>\n",
       "<style scoped>\n",
       "    .dataframe tbody tr th:only-of-type {\n",
       "        vertical-align: middle;\n",
       "    }\n",
       "\n",
       "    .dataframe tbody tr th {\n",
       "        vertical-align: top;\n",
       "    }\n",
       "\n",
       "    .dataframe thead th {\n",
       "        text-align: right;\n",
       "    }\n",
       "</style>\n",
       "<table border=\"1\" class=\"dataframe\">\n",
       "  <thead>\n",
       "    <tr style=\"text-align: right;\">\n",
       "      <th></th>\n",
       "      <th>fare_amount</th>\n",
       "      <th>pickup_longitude</th>\n",
       "      <th>pickup_latitude</th>\n",
       "      <th>dropoff_longitude</th>\n",
       "      <th>dropoff_latitude</th>\n",
       "      <th>passenger_count</th>\n",
       "      <th>hour</th>\n",
       "      <th>day</th>\n",
       "      <th>month</th>\n",
       "      <th>year</th>\n",
       "      <th>dayofweek</th>\n",
       "    </tr>\n",
       "  </thead>\n",
       "  <tbody>\n",
       "    <tr>\n",
       "      <th>count</th>\n",
       "      <td>200000.000000</td>\n",
       "      <td>200000.000000</td>\n",
       "      <td>200000.000000</td>\n",
       "      <td>200000.000000</td>\n",
       "      <td>200000.000000</td>\n",
       "      <td>200000.000000</td>\n",
       "      <td>200000.000000</td>\n",
       "      <td>200000.000000</td>\n",
       "      <td>200000.000000</td>\n",
       "      <td>200000.000000</td>\n",
       "      <td>200000.000000</td>\n",
       "    </tr>\n",
       "    <tr>\n",
       "      <th>mean</th>\n",
       "      <td>11.359955</td>\n",
       "      <td>-72.527638</td>\n",
       "      <td>39.935885</td>\n",
       "      <td>-72.525292</td>\n",
       "      <td>39.923890</td>\n",
       "      <td>1.684535</td>\n",
       "      <td>13.491335</td>\n",
       "      <td>15.704670</td>\n",
       "      <td>6.281795</td>\n",
       "      <td>2011.742440</td>\n",
       "      <td>3.048425</td>\n",
       "    </tr>\n",
       "    <tr>\n",
       "      <th>std</th>\n",
       "      <td>9.901776</td>\n",
       "      <td>11.437787</td>\n",
       "      <td>7.720539</td>\n",
       "      <td>13.117375</td>\n",
       "      <td>6.794812</td>\n",
       "      <td>1.385997</td>\n",
       "      <td>6.515531</td>\n",
       "      <td>8.687409</td>\n",
       "      <td>3.438925</td>\n",
       "      <td>1.856397</td>\n",
       "      <td>1.946946</td>\n",
       "    </tr>\n",
       "    <tr>\n",
       "      <th>min</th>\n",
       "      <td>-52.000000</td>\n",
       "      <td>-1340.648410</td>\n",
       "      <td>-74.015515</td>\n",
       "      <td>-3356.666300</td>\n",
       "      <td>-881.985513</td>\n",
       "      <td>0.000000</td>\n",
       "      <td>0.000000</td>\n",
       "      <td>1.000000</td>\n",
       "      <td>1.000000</td>\n",
       "      <td>2009.000000</td>\n",
       "      <td>0.000000</td>\n",
       "    </tr>\n",
       "    <tr>\n",
       "      <th>25%</th>\n",
       "      <td>6.000000</td>\n",
       "      <td>-73.992065</td>\n",
       "      <td>40.734796</td>\n",
       "      <td>-73.991407</td>\n",
       "      <td>40.733823</td>\n",
       "      <td>1.000000</td>\n",
       "      <td>9.000000</td>\n",
       "      <td>8.000000</td>\n",
       "      <td>3.000000</td>\n",
       "      <td>2010.000000</td>\n",
       "      <td>1.000000</td>\n",
       "    </tr>\n",
       "    <tr>\n",
       "      <th>50%</th>\n",
       "      <td>8.500000</td>\n",
       "      <td>-73.981823</td>\n",
       "      <td>40.752592</td>\n",
       "      <td>-73.980093</td>\n",
       "      <td>40.753042</td>\n",
       "      <td>1.000000</td>\n",
       "      <td>14.000000</td>\n",
       "      <td>16.000000</td>\n",
       "      <td>6.000000</td>\n",
       "      <td>2012.000000</td>\n",
       "      <td>3.000000</td>\n",
       "    </tr>\n",
       "    <tr>\n",
       "      <th>75%</th>\n",
       "      <td>12.500000</td>\n",
       "      <td>-73.967154</td>\n",
       "      <td>40.767158</td>\n",
       "      <td>-73.963658</td>\n",
       "      <td>40.768001</td>\n",
       "      <td>2.000000</td>\n",
       "      <td>19.000000</td>\n",
       "      <td>23.000000</td>\n",
       "      <td>9.000000</td>\n",
       "      <td>2013.000000</td>\n",
       "      <td>5.000000</td>\n",
       "    </tr>\n",
       "    <tr>\n",
       "      <th>max</th>\n",
       "      <td>499.000000</td>\n",
       "      <td>57.418457</td>\n",
       "      <td>1644.421482</td>\n",
       "      <td>1153.572603</td>\n",
       "      <td>872.697628</td>\n",
       "      <td>208.000000</td>\n",
       "      <td>23.000000</td>\n",
       "      <td>31.000000</td>\n",
       "      <td>12.000000</td>\n",
       "      <td>2015.000000</td>\n",
       "      <td>6.000000</td>\n",
       "    </tr>\n",
       "  </tbody>\n",
       "</table>\n",
       "</div>"
      ],
      "text/plain": [
       "         fare_amount  pickup_longitude  pickup_latitude  dropoff_longitude  \\\n",
       "count  200000.000000     200000.000000    200000.000000      200000.000000   \n",
       "mean       11.359955        -72.527638        39.935885         -72.525292   \n",
       "std         9.901776         11.437787         7.720539          13.117375   \n",
       "min       -52.000000      -1340.648410       -74.015515       -3356.666300   \n",
       "25%         6.000000        -73.992065        40.734796         -73.991407   \n",
       "50%         8.500000        -73.981823        40.752592         -73.980093   \n",
       "75%        12.500000        -73.967154        40.767158         -73.963658   \n",
       "max       499.000000         57.418457      1644.421482        1153.572603   \n",
       "\n",
       "       dropoff_latitude  passenger_count           hour            day  \\\n",
       "count     200000.000000    200000.000000  200000.000000  200000.000000   \n",
       "mean          39.923890         1.684535      13.491335      15.704670   \n",
       "std            6.794812         1.385997       6.515531       8.687409   \n",
       "min         -881.985513         0.000000       0.000000       1.000000   \n",
       "25%           40.733823         1.000000       9.000000       8.000000   \n",
       "50%           40.753042         1.000000      14.000000      16.000000   \n",
       "75%           40.768001         2.000000      19.000000      23.000000   \n",
       "max          872.697628       208.000000      23.000000      31.000000   \n",
       "\n",
       "               month           year      dayofweek  \n",
       "count  200000.000000  200000.000000  200000.000000  \n",
       "mean        6.281795    2011.742440       3.048425  \n",
       "std         3.438925       1.856397       1.946946  \n",
       "min         1.000000    2009.000000       0.000000  \n",
       "25%         3.000000    2010.000000       1.000000  \n",
       "50%         6.000000    2012.000000       3.000000  \n",
       "75%         9.000000    2013.000000       5.000000  \n",
       "max        12.000000    2015.000000       6.000000  "
      ]
     },
     "execution_count": 23,
     "metadata": {},
     "output_type": "execute_result"
    }
   ],
   "source": [
    "df.describe()"
   ]
  },
  {
   "cell_type": "code",
   "execution_count": 24,
   "id": "921a13f8-061d-4224-8532-b9e6ca8f6e4f",
   "metadata": {},
   "outputs": [
    {
     "data": {
      "text/plain": [
       "6.50      9684\n",
       "4.50      8247\n",
       "8.50      7521\n",
       "5.70      5858\n",
       "5.30      5838\n",
       "          ... \n",
       "140.25       1\n",
       "190.00       1\n",
       "45.16        1\n",
       "28.20        1\n",
       "89.10        1\n",
       "Name: fare_amount, Length: 1244, dtype: int64"
      ]
     },
     "execution_count": 24,
     "metadata": {},
     "output_type": "execute_result"
    }
   ],
   "source": [
    "x=df.fare_amount.value_counts()\n",
    "x"
   ]
  },
  {
   "cell_type": "code",
   "execution_count": 25,
   "id": "721fc22b-6126-4eb7-8ebf-e77b78e0275e",
   "metadata": {},
   "outputs": [
    {
     "name": "stdout",
     "output_type": "stream",
     "text": [
      "max count :  9684\n"
     ]
    }
   ],
   "source": [
    "print('max count : ',x[6.5])"
   ]
  },
  {
   "cell_type": "code",
   "execution_count": 26,
   "id": "2f277aff-260b-42bd-b966-49b8086d5f8b",
   "metadata": {},
   "outputs": [],
   "source": [
    "# drop the pickup_datetime column using drop()\n",
    "# axis=1 to drop the column wise\n",
    "df=df.drop(['pickup_datetime'],axis=1)"
   ]
  },
  {
   "cell_type": "code",
   "execution_count": 27,
   "id": "8b03d11f-38f0-44c3-b733-c1a436c67de4",
   "metadata": {},
   "outputs": [
    {
     "data": {
      "text/html": [
       "<div>\n",
       "<style scoped>\n",
       "    .dataframe tbody tr th:only-of-type {\n",
       "        vertical-align: middle;\n",
       "    }\n",
       "\n",
       "    .dataframe tbody tr th {\n",
       "        vertical-align: top;\n",
       "    }\n",
       "\n",
       "    .dataframe thead th {\n",
       "        text-align: right;\n",
       "    }\n",
       "</style>\n",
       "<table border=\"1\" class=\"dataframe\">\n",
       "  <thead>\n",
       "    <tr style=\"text-align: right;\">\n",
       "      <th></th>\n",
       "      <th>fare_amount</th>\n",
       "      <th>pickup_longitude</th>\n",
       "      <th>pickup_latitude</th>\n",
       "      <th>dropoff_longitude</th>\n",
       "      <th>dropoff_latitude</th>\n",
       "      <th>passenger_count</th>\n",
       "      <th>hour</th>\n",
       "      <th>day</th>\n",
       "      <th>month</th>\n",
       "      <th>year</th>\n",
       "      <th>dayofweek</th>\n",
       "      <th>dayName</th>\n",
       "    </tr>\n",
       "  </thead>\n",
       "  <tbody>\n",
       "    <tr>\n",
       "      <th>0</th>\n",
       "      <td>7.5</td>\n",
       "      <td>-73.999817</td>\n",
       "      <td>40.738354</td>\n",
       "      <td>-73.999512</td>\n",
       "      <td>40.723217</td>\n",
       "      <td>1</td>\n",
       "      <td>19</td>\n",
       "      <td>7</td>\n",
       "      <td>5</td>\n",
       "      <td>2015</td>\n",
       "      <td>3</td>\n",
       "      <td>Thursday</td>\n",
       "    </tr>\n",
       "    <tr>\n",
       "      <th>1</th>\n",
       "      <td>7.7</td>\n",
       "      <td>-73.994355</td>\n",
       "      <td>40.728225</td>\n",
       "      <td>-73.994710</td>\n",
       "      <td>40.750325</td>\n",
       "      <td>1</td>\n",
       "      <td>20</td>\n",
       "      <td>17</td>\n",
       "      <td>7</td>\n",
       "      <td>2009</td>\n",
       "      <td>4</td>\n",
       "      <td>Friday</td>\n",
       "    </tr>\n",
       "    <tr>\n",
       "      <th>2</th>\n",
       "      <td>12.9</td>\n",
       "      <td>-74.005043</td>\n",
       "      <td>40.740770</td>\n",
       "      <td>-73.962565</td>\n",
       "      <td>40.772647</td>\n",
       "      <td>1</td>\n",
       "      <td>21</td>\n",
       "      <td>24</td>\n",
       "      <td>8</td>\n",
       "      <td>2009</td>\n",
       "      <td>0</td>\n",
       "      <td>Monday</td>\n",
       "    </tr>\n",
       "    <tr>\n",
       "      <th>3</th>\n",
       "      <td>5.3</td>\n",
       "      <td>-73.976124</td>\n",
       "      <td>40.790844</td>\n",
       "      <td>-73.965316</td>\n",
       "      <td>40.803349</td>\n",
       "      <td>3</td>\n",
       "      <td>8</td>\n",
       "      <td>26</td>\n",
       "      <td>6</td>\n",
       "      <td>2009</td>\n",
       "      <td>4</td>\n",
       "      <td>Friday</td>\n",
       "    </tr>\n",
       "    <tr>\n",
       "      <th>4</th>\n",
       "      <td>16.0</td>\n",
       "      <td>-73.925023</td>\n",
       "      <td>40.744085</td>\n",
       "      <td>-73.973082</td>\n",
       "      <td>40.761247</td>\n",
       "      <td>5</td>\n",
       "      <td>17</td>\n",
       "      <td>28</td>\n",
       "      <td>8</td>\n",
       "      <td>2014</td>\n",
       "      <td>3</td>\n",
       "      <td>Thursday</td>\n",
       "    </tr>\n",
       "  </tbody>\n",
       "</table>\n",
       "</div>"
      ],
      "text/plain": [
       "   fare_amount  pickup_longitude  pickup_latitude  dropoff_longitude  \\\n",
       "0          7.5        -73.999817        40.738354         -73.999512   \n",
       "1          7.7        -73.994355        40.728225         -73.994710   \n",
       "2         12.9        -74.005043        40.740770         -73.962565   \n",
       "3          5.3        -73.976124        40.790844         -73.965316   \n",
       "4         16.0        -73.925023        40.744085         -73.973082   \n",
       "\n",
       "   dropoff_latitude  passenger_count  hour  day  month  year  dayofweek  \\\n",
       "0         40.723217                1    19    7      5  2015          3   \n",
       "1         40.750325                1    20   17      7  2009          4   \n",
       "2         40.772647                1    21   24      8  2009          0   \n",
       "3         40.803349                3     8   26      6  2009          4   \n",
       "4         40.761247                5    17   28      8  2014          3   \n",
       "\n",
       "    dayName  \n",
       "0  Thursday  \n",
       "1    Friday  \n",
       "2    Monday  \n",
       "3    Friday  \n",
       "4  Thursday  "
      ]
     },
     "execution_count": 27,
     "metadata": {},
     "output_type": "execute_result"
    }
   ],
   "source": [
    "df.head()"
   ]
  },
  {
   "cell_type": "code",
   "execution_count": 28,
   "id": "97f59871-4998-46e4-b6ec-88cb243e70c6",
   "metadata": {},
   "outputs": [],
   "source": [
    "df=df.drop(['dayName'],axis=1)"
   ]
  },
  {
   "cell_type": "code",
   "execution_count": 29,
   "id": "6e29f7c6-45f4-4300-b598-ae015f8a2e56",
   "metadata": {},
   "outputs": [],
   "source": [
    "# So there is no incorrect coordinates in the dataset now and can proceed for the further process\n",
    "# and if present than remove the incorrect coordinates"
   ]
  },
  {
   "cell_type": "code",
   "execution_count": 30,
   "id": "276ce2c1-dff5-4307-8a21-a1b995c37934",
   "metadata": {},
   "outputs": [
    {
     "data": {
      "text/html": [
       "<div>\n",
       "<style scoped>\n",
       "    .dataframe tbody tr th:only-of-type {\n",
       "        vertical-align: middle;\n",
       "    }\n",
       "\n",
       "    .dataframe tbody tr th {\n",
       "        vertical-align: top;\n",
       "    }\n",
       "\n",
       "    .dataframe thead th {\n",
       "        text-align: right;\n",
       "    }\n",
       "</style>\n",
       "<table border=\"1\" class=\"dataframe\">\n",
       "  <thead>\n",
       "    <tr style=\"text-align: right;\">\n",
       "      <th></th>\n",
       "      <th>fare_amount</th>\n",
       "      <th>pickup_longitude</th>\n",
       "      <th>pickup_latitude</th>\n",
       "      <th>dropoff_longitude</th>\n",
       "      <th>dropoff_latitude</th>\n",
       "      <th>passenger_count</th>\n",
       "      <th>hour</th>\n",
       "      <th>day</th>\n",
       "      <th>month</th>\n",
       "      <th>year</th>\n",
       "      <th>dayofweek</th>\n",
       "    </tr>\n",
       "  </thead>\n",
       "  <tbody>\n",
       "    <tr>\n",
       "      <th>4949</th>\n",
       "      <td>4.9</td>\n",
       "      <td>-748.016667</td>\n",
       "      <td>40.739957</td>\n",
       "      <td>-74.003570</td>\n",
       "      <td>40.734192</td>\n",
       "      <td>1</td>\n",
       "      <td>0</td>\n",
       "      <td>28</td>\n",
       "      <td>4</td>\n",
       "      <td>2012</td>\n",
       "      <td>5</td>\n",
       "    </tr>\n",
       "    <tr>\n",
       "      <th>32549</th>\n",
       "      <td>15.7</td>\n",
       "      <td>-74.016055</td>\n",
       "      <td>40.715155</td>\n",
       "      <td>-737.916665</td>\n",
       "      <td>40.697862</td>\n",
       "      <td>2</td>\n",
       "      <td>10</td>\n",
       "      <td>16</td>\n",
       "      <td>6</td>\n",
       "      <td>2012</td>\n",
       "      <td>5</td>\n",
       "    </tr>\n",
       "    <tr>\n",
       "      <th>48506</th>\n",
       "      <td>33.7</td>\n",
       "      <td>-735.200000</td>\n",
       "      <td>40.770092</td>\n",
       "      <td>-73.980187</td>\n",
       "      <td>40.765530</td>\n",
       "      <td>1</td>\n",
       "      <td>23</td>\n",
       "      <td>5</td>\n",
       "      <td>11</td>\n",
       "      <td>2011</td>\n",
       "      <td>5</td>\n",
       "    </tr>\n",
       "    <tr>\n",
       "      <th>56617</th>\n",
       "      <td>8.1</td>\n",
       "      <td>-73.960828</td>\n",
       "      <td>404.433332</td>\n",
       "      <td>-73.988357</td>\n",
       "      <td>40.769037</td>\n",
       "      <td>1</td>\n",
       "      <td>7</td>\n",
       "      <td>11</td>\n",
       "      <td>3</td>\n",
       "      <td>2012</td>\n",
       "      <td>6</td>\n",
       "    </tr>\n",
       "    <tr>\n",
       "      <th>61793</th>\n",
       "      <td>8.5</td>\n",
       "      <td>-73.951385</td>\n",
       "      <td>401.066667</td>\n",
       "      <td>-73.982110</td>\n",
       "      <td>40.754117</td>\n",
       "      <td>1</td>\n",
       "      <td>5</td>\n",
       "      <td>13</td>\n",
       "      <td>6</td>\n",
       "      <td>2012</td>\n",
       "      <td>2</td>\n",
       "    </tr>\n",
       "    <tr>\n",
       "      <th>75851</th>\n",
       "      <td>15.7</td>\n",
       "      <td>-1340.648410</td>\n",
       "      <td>1644.421482</td>\n",
       "      <td>-3356.666300</td>\n",
       "      <td>872.697628</td>\n",
       "      <td>1</td>\n",
       "      <td>0</td>\n",
       "      <td>5</td>\n",
       "      <td>11</td>\n",
       "      <td>2011</td>\n",
       "      <td>5</td>\n",
       "    </tr>\n",
       "    <tr>\n",
       "      <th>91422</th>\n",
       "      <td>16.1</td>\n",
       "      <td>57.418457</td>\n",
       "      <td>1292.016128</td>\n",
       "      <td>1153.572603</td>\n",
       "      <td>-881.985513</td>\n",
       "      <td>1</td>\n",
       "      <td>13</td>\n",
       "      <td>18</td>\n",
       "      <td>5</td>\n",
       "      <td>2011</td>\n",
       "      <td>2</td>\n",
       "    </tr>\n",
       "    <tr>\n",
       "      <th>103745</th>\n",
       "      <td>12.9</td>\n",
       "      <td>-736.216667</td>\n",
       "      <td>40.767035</td>\n",
       "      <td>-73.982377</td>\n",
       "      <td>40.725562</td>\n",
       "      <td>1</td>\n",
       "      <td>19</td>\n",
       "      <td>14</td>\n",
       "      <td>10</td>\n",
       "      <td>2011</td>\n",
       "      <td>4</td>\n",
       "    </tr>\n",
       "    <tr>\n",
       "      <th>139447</th>\n",
       "      <td>13.7</td>\n",
       "      <td>-74.011042</td>\n",
       "      <td>40.709780</td>\n",
       "      <td>-73.983163</td>\n",
       "      <td>493.533332</td>\n",
       "      <td>4</td>\n",
       "      <td>11</td>\n",
       "      <td>20</td>\n",
       "      <td>1</td>\n",
       "      <td>2012</td>\n",
       "      <td>4</td>\n",
       "    </tr>\n",
       "    <tr>\n",
       "      <th>144253</th>\n",
       "      <td>7.3</td>\n",
       "      <td>-768.550000</td>\n",
       "      <td>40.757812</td>\n",
       "      <td>-73.997040</td>\n",
       "      <td>40.740007</td>\n",
       "      <td>1</td>\n",
       "      <td>11</td>\n",
       "      <td>26</td>\n",
       "      <td>8</td>\n",
       "      <td>2009</td>\n",
       "      <td>2</td>\n",
       "    </tr>\n",
       "    <tr>\n",
       "      <th>161652</th>\n",
       "      <td>4.1</td>\n",
       "      <td>-735.433332</td>\n",
       "      <td>40.740605</td>\n",
       "      <td>-74.006373</td>\n",
       "      <td>40.739607</td>\n",
       "      <td>1</td>\n",
       "      <td>12</td>\n",
       "      <td>12</td>\n",
       "      <td>5</td>\n",
       "      <td>2010</td>\n",
       "      <td>2</td>\n",
       "    </tr>\n",
       "    <tr>\n",
       "      <th>199936</th>\n",
       "      <td>4.1</td>\n",
       "      <td>-736.400000</td>\n",
       "      <td>40.774307</td>\n",
       "      <td>-73.982215</td>\n",
       "      <td>40.769672</td>\n",
       "      <td>5</td>\n",
       "      <td>16</td>\n",
       "      <td>21</td>\n",
       "      <td>7</td>\n",
       "      <td>2012</td>\n",
       "      <td>5</td>\n",
       "    </tr>\n",
       "  </tbody>\n",
       "</table>\n",
       "</div>"
      ],
      "text/plain": [
       "        fare_amount  pickup_longitude  pickup_latitude  dropoff_longitude  \\\n",
       "4949            4.9       -748.016667        40.739957         -74.003570   \n",
       "32549          15.7        -74.016055        40.715155        -737.916665   \n",
       "48506          33.7       -735.200000        40.770092         -73.980187   \n",
       "56617           8.1        -73.960828       404.433332         -73.988357   \n",
       "61793           8.5        -73.951385       401.066667         -73.982110   \n",
       "75851          15.7      -1340.648410      1644.421482       -3356.666300   \n",
       "91422          16.1         57.418457      1292.016128        1153.572603   \n",
       "103745         12.9       -736.216667        40.767035         -73.982377   \n",
       "139447         13.7        -74.011042        40.709780         -73.983163   \n",
       "144253          7.3       -768.550000        40.757812         -73.997040   \n",
       "161652          4.1       -735.433332        40.740605         -74.006373   \n",
       "199936          4.1       -736.400000        40.774307         -73.982215   \n",
       "\n",
       "        dropoff_latitude  passenger_count  hour  day  month  year  dayofweek  \n",
       "4949           40.734192                1     0   28      4  2012          5  \n",
       "32549          40.697862                2    10   16      6  2012          5  \n",
       "48506          40.765530                1    23    5     11  2011          5  \n",
       "56617          40.769037                1     7   11      3  2012          6  \n",
       "61793          40.754117                1     5   13      6  2012          2  \n",
       "75851         872.697628                1     0    5     11  2011          5  \n",
       "91422        -881.985513                1    13   18      5  2011          2  \n",
       "103745         40.725562                1    19   14     10  2011          4  \n",
       "139447        493.533332                4    11   20      1  2012          4  \n",
       "144253         40.740007                1    11   26      8  2009          2  \n",
       "161652         40.739607                1    12   12      5  2010          2  \n",
       "199936         40.769672                5    16   21      7  2012          5  "
      ]
     },
     "execution_count": 30,
     "metadata": {},
     "output_type": "execute_result"
    }
   ],
   "source": [
    "#finding the incorrect latitudes range = less than -90 to greater than 90 and longitudes = less than -180 to greater than 180\n",
    "incorrect_coordinates = df.loc[(df.pickup_latitude>90) | (df.pickup_latitude< -90) | \n",
    "                                 (df.dropoff_latitude>90) | (df.dropoff_latitude< -90) |\n",
    "                                 (df.pickup_longitude>180) | (df.pickup_longitude< -180) |\n",
    "                                 (df.dropoff_longitude>180) | (df.dropoff_longitude< -180)]\n",
    "incorrect_coordinates"
   ]
  },
  {
   "cell_type": "code",
   "execution_count": 31,
   "id": "54dab971-ff03-4b2a-9f4e-c1268ec0ebb3",
   "metadata": {},
   "outputs": [],
   "source": [
    "df.drop(incorrect_coordinates, inplace = True, errors = 'ignore')"
   ]
  },
  {
   "cell_type": "code",
   "execution_count": 32,
   "id": "88174821-f660-4d3a-8b1d-47854ab27a83",
   "metadata": {},
   "outputs": [
    {
     "data": {
      "text/html": [
       "<div>\n",
       "<style scoped>\n",
       "    .dataframe tbody tr th:only-of-type {\n",
       "        vertical-align: middle;\n",
       "    }\n",
       "\n",
       "    .dataframe tbody tr th {\n",
       "        vertical-align: top;\n",
       "    }\n",
       "\n",
       "    .dataframe thead th {\n",
       "        text-align: right;\n",
       "    }\n",
       "</style>\n",
       "<table border=\"1\" class=\"dataframe\">\n",
       "  <thead>\n",
       "    <tr style=\"text-align: right;\">\n",
       "      <th></th>\n",
       "      <th>fare_amount</th>\n",
       "      <th>pickup_longitude</th>\n",
       "      <th>pickup_latitude</th>\n",
       "      <th>dropoff_longitude</th>\n",
       "      <th>dropoff_latitude</th>\n",
       "      <th>passenger_count</th>\n",
       "      <th>hour</th>\n",
       "      <th>day</th>\n",
       "      <th>month</th>\n",
       "      <th>year</th>\n",
       "      <th>dayofweek</th>\n",
       "    </tr>\n",
       "  </thead>\n",
       "  <tbody>\n",
       "    <tr>\n",
       "      <th>0</th>\n",
       "      <td>7.5</td>\n",
       "      <td>-73.999817</td>\n",
       "      <td>40.738354</td>\n",
       "      <td>-73.999512</td>\n",
       "      <td>40.723217</td>\n",
       "      <td>1</td>\n",
       "      <td>19</td>\n",
       "      <td>7</td>\n",
       "      <td>5</td>\n",
       "      <td>2015</td>\n",
       "      <td>3</td>\n",
       "    </tr>\n",
       "    <tr>\n",
       "      <th>1</th>\n",
       "      <td>7.7</td>\n",
       "      <td>-73.994355</td>\n",
       "      <td>40.728225</td>\n",
       "      <td>-73.994710</td>\n",
       "      <td>40.750325</td>\n",
       "      <td>1</td>\n",
       "      <td>20</td>\n",
       "      <td>17</td>\n",
       "      <td>7</td>\n",
       "      <td>2009</td>\n",
       "      <td>4</td>\n",
       "    </tr>\n",
       "    <tr>\n",
       "      <th>2</th>\n",
       "      <td>12.9</td>\n",
       "      <td>-74.005043</td>\n",
       "      <td>40.740770</td>\n",
       "      <td>-73.962565</td>\n",
       "      <td>40.772647</td>\n",
       "      <td>1</td>\n",
       "      <td>21</td>\n",
       "      <td>24</td>\n",
       "      <td>8</td>\n",
       "      <td>2009</td>\n",
       "      <td>0</td>\n",
       "    </tr>\n",
       "    <tr>\n",
       "      <th>3</th>\n",
       "      <td>5.3</td>\n",
       "      <td>-73.976124</td>\n",
       "      <td>40.790844</td>\n",
       "      <td>-73.965316</td>\n",
       "      <td>40.803349</td>\n",
       "      <td>3</td>\n",
       "      <td>8</td>\n",
       "      <td>26</td>\n",
       "      <td>6</td>\n",
       "      <td>2009</td>\n",
       "      <td>4</td>\n",
       "    </tr>\n",
       "    <tr>\n",
       "      <th>4</th>\n",
       "      <td>16.0</td>\n",
       "      <td>-73.925023</td>\n",
       "      <td>40.744085</td>\n",
       "      <td>-73.973082</td>\n",
       "      <td>40.761247</td>\n",
       "      <td>5</td>\n",
       "      <td>17</td>\n",
       "      <td>28</td>\n",
       "      <td>8</td>\n",
       "      <td>2014</td>\n",
       "      <td>3</td>\n",
       "    </tr>\n",
       "    <tr>\n",
       "      <th>...</th>\n",
       "      <td>...</td>\n",
       "      <td>...</td>\n",
       "      <td>...</td>\n",
       "      <td>...</td>\n",
       "      <td>...</td>\n",
       "      <td>...</td>\n",
       "      <td>...</td>\n",
       "      <td>...</td>\n",
       "      <td>...</td>\n",
       "      <td>...</td>\n",
       "      <td>...</td>\n",
       "    </tr>\n",
       "    <tr>\n",
       "      <th>199995</th>\n",
       "      <td>3.0</td>\n",
       "      <td>-73.987042</td>\n",
       "      <td>40.739367</td>\n",
       "      <td>-73.986525</td>\n",
       "      <td>40.740297</td>\n",
       "      <td>1</td>\n",
       "      <td>10</td>\n",
       "      <td>28</td>\n",
       "      <td>10</td>\n",
       "      <td>2012</td>\n",
       "      <td>6</td>\n",
       "    </tr>\n",
       "    <tr>\n",
       "      <th>199996</th>\n",
       "      <td>7.5</td>\n",
       "      <td>-73.984722</td>\n",
       "      <td>40.736837</td>\n",
       "      <td>-74.006672</td>\n",
       "      <td>40.739620</td>\n",
       "      <td>1</td>\n",
       "      <td>1</td>\n",
       "      <td>14</td>\n",
       "      <td>3</td>\n",
       "      <td>2014</td>\n",
       "      <td>4</td>\n",
       "    </tr>\n",
       "    <tr>\n",
       "      <th>199997</th>\n",
       "      <td>30.9</td>\n",
       "      <td>-73.986017</td>\n",
       "      <td>40.756487</td>\n",
       "      <td>-73.858957</td>\n",
       "      <td>40.692588</td>\n",
       "      <td>2</td>\n",
       "      <td>0</td>\n",
       "      <td>29</td>\n",
       "      <td>6</td>\n",
       "      <td>2009</td>\n",
       "      <td>0</td>\n",
       "    </tr>\n",
       "    <tr>\n",
       "      <th>199998</th>\n",
       "      <td>14.5</td>\n",
       "      <td>-73.997124</td>\n",
       "      <td>40.725452</td>\n",
       "      <td>-73.983215</td>\n",
       "      <td>40.695415</td>\n",
       "      <td>1</td>\n",
       "      <td>14</td>\n",
       "      <td>20</td>\n",
       "      <td>5</td>\n",
       "      <td>2015</td>\n",
       "      <td>2</td>\n",
       "    </tr>\n",
       "    <tr>\n",
       "      <th>199999</th>\n",
       "      <td>14.1</td>\n",
       "      <td>-73.984395</td>\n",
       "      <td>40.720077</td>\n",
       "      <td>-73.985508</td>\n",
       "      <td>40.768793</td>\n",
       "      <td>1</td>\n",
       "      <td>4</td>\n",
       "      <td>15</td>\n",
       "      <td>5</td>\n",
       "      <td>2010</td>\n",
       "      <td>5</td>\n",
       "    </tr>\n",
       "  </tbody>\n",
       "</table>\n",
       "<p>200000 rows × 11 columns</p>\n",
       "</div>"
      ],
      "text/plain": [
       "        fare_amount  pickup_longitude  pickup_latitude  dropoff_longitude  \\\n",
       "0               7.5        -73.999817        40.738354         -73.999512   \n",
       "1               7.7        -73.994355        40.728225         -73.994710   \n",
       "2              12.9        -74.005043        40.740770         -73.962565   \n",
       "3               5.3        -73.976124        40.790844         -73.965316   \n",
       "4              16.0        -73.925023        40.744085         -73.973082   \n",
       "...             ...               ...              ...                ...   \n",
       "199995          3.0        -73.987042        40.739367         -73.986525   \n",
       "199996          7.5        -73.984722        40.736837         -74.006672   \n",
       "199997         30.9        -73.986017        40.756487         -73.858957   \n",
       "199998         14.5        -73.997124        40.725452         -73.983215   \n",
       "199999         14.1        -73.984395        40.720077         -73.985508   \n",
       "\n",
       "        dropoff_latitude  passenger_count  hour  day  month  year  dayofweek  \n",
       "0              40.723217                1    19    7      5  2015          3  \n",
       "1              40.750325                1    20   17      7  2009          4  \n",
       "2              40.772647                1    21   24      8  2009          0  \n",
       "3              40.803349                3     8   26      6  2009          4  \n",
       "4              40.761247                5    17   28      8  2014          3  \n",
       "...                  ...              ...   ...  ...    ...   ...        ...  \n",
       "199995         40.740297                1    10   28     10  2012          6  \n",
       "199996         40.739620                1     1   14      3  2014          4  \n",
       "199997         40.692588                2     0   29      6  2009          0  \n",
       "199998         40.695415                1    14   20      5  2015          2  \n",
       "199999         40.768793                1     4   15      5  2010          5  \n",
       "\n",
       "[200000 rows x 11 columns]"
      ]
     },
     "execution_count": 32,
     "metadata": {},
     "output_type": "execute_result"
    }
   ],
   "source": [
    "df"
   ]
  },
  {
   "cell_type": "markdown",
   "id": "efb9745a-83c5-4a87-b354-52a33cc201c8",
   "metadata": {},
   "source": [
    "#### Checking outlier and handling them"
   ]
  },
  {
   "cell_type": "code",
   "execution_count": 33,
   "id": "05efbc61-ba91-4b40-9148-ddaf3475f04e",
   "metadata": {},
   "outputs": [
    {
     "data": {
      "text/plain": [
       "11"
      ]
     },
     "execution_count": 33,
     "metadata": {},
     "output_type": "execute_result"
    }
   ],
   "source": [
    "number_of_columns=len(df.columns)\n",
    "number_of_columns"
   ]
  },
  {
   "cell_type": "code",
   "execution_count": 34,
   "id": "cde33c83-3a36-48dc-a3d6-a056a7804d8c",
   "metadata": {},
   "outputs": [
    {
     "name": "stdout",
     "output_type": "stream",
     "text": [
      "<class 'pandas.core.frame.DataFrame'>\n",
      "RangeIndex: 200000 entries, 0 to 199999\n",
      "Data columns (total 11 columns):\n",
      " #   Column             Non-Null Count   Dtype  \n",
      "---  ------             --------------   -----  \n",
      " 0   fare_amount        200000 non-null  float64\n",
      " 1   pickup_longitude   200000 non-null  float64\n",
      " 2   pickup_latitude    200000 non-null  float64\n",
      " 3   dropoff_longitude  200000 non-null  float64\n",
      " 4   dropoff_latitude   200000 non-null  float64\n",
      " 5   passenger_count    200000 non-null  int64  \n",
      " 6   hour               200000 non-null  int64  \n",
      " 7   day                200000 non-null  int64  \n",
      " 8   month              200000 non-null  int64  \n",
      " 9   year               200000 non-null  int64  \n",
      " 10  dayofweek          200000 non-null  int64  \n",
      "dtypes: float64(5), int64(6)\n",
      "memory usage: 16.8 MB\n"
     ]
    }
   ],
   "source": [
    "df.info()"
   ]
  },
  {
   "cell_type": "code",
   "execution_count": 35,
   "id": "313ccaee-6e4d-4b39-883f-b2e05fa45f22",
   "metadata": {},
   "outputs": [
    {
     "data": {
      "text/plain": [
       "<AxesSubplot:>"
      ]
     },
     "execution_count": 35,
     "metadata": {},
     "output_type": "execute_result"
    },
    {
     "data": {
      "image/png": "[encoded data removed]",
      "text/plain": [
       "<Figure size 720x864 with 1 Axes>"
      ]
     },
     "metadata": {
      "needs_background": "light"
     },
     "output_type": "display_data"
    }
   ],
   "source": [
    "#plot boxplot to check the outlier\n",
    "df.plot(kind = \"box\",subplots = False, layout=(7,2) , figsize=(10,12))"
   ]
  },
  {
   "cell_type": "code",
   "execution_count": 36,
   "id": "6e5a474d-c82b-41b0-bbb5-554fbcf12747",
   "metadata": {},
   "outputs": [
    {
     "data": {
      "text/plain": [
       "fare_amount             AxesSubplot(0.125,0.787927;0.352273x0.0920732)\n",
       "pickup_longitude     AxesSubplot(0.547727,0.787927;0.352273x0.0920732)\n",
       "pickup_latitude         AxesSubplot(0.125,0.677439;0.352273x0.0920732)\n",
       "dropoff_longitude    AxesSubplot(0.547727,0.677439;0.352273x0.0920732)\n",
       "dropoff_latitude        AxesSubplot(0.125,0.566951;0.352273x0.0920732)\n",
       "passenger_count      AxesSubplot(0.547727,0.566951;0.352273x0.0920732)\n",
       "hour                    AxesSubplot(0.125,0.456463;0.352273x0.0920732)\n",
       "day                  AxesSubplot(0.547727,0.456463;0.352273x0.0920732)\n",
       "month                   AxesSubplot(0.125,0.345976;0.352273x0.0920732)\n",
       "year                 AxesSubplot(0.547727,0.345976;0.352273x0.0920732)\n",
       "dayofweek               AxesSubplot(0.125,0.235488;0.352273x0.0920732)\n",
       "dtype: object"
      ]
     },
     "execution_count": 36,
     "metadata": {},
     "output_type": "execute_result"
    },
    {
     "data": {
      "image/png": "[encoded data removed]",
      "text/plain": [
       "<Figure size 1080x1440 with 14 Axes>"
      ]
     },
     "metadata": {
      "needs_background": "light"
     },
     "output_type": "display_data"
    }
   ],
   "source": [
    "#box plot for each columns\n",
    "df.plot(kind=\"box\", subplots = True, layout=(7,2), figsize = (15,20))"
   ]
  },
  {
   "cell_type": "code",
   "execution_count": 37,
   "id": "fb71a7d6-5cdc-41a0-a5f4-227af9711e9f",
   "metadata": {},
   "outputs": [
    {
     "data": {
      "text/plain": [
       "fare_amount              AxesSubplot(0.125,0.71587;0.227941x0.16413)\n",
       "pickup_longitude      AxesSubplot(0.398529,0.71587;0.227941x0.16413)\n",
       "pickup_latitude       AxesSubplot(0.672059,0.71587;0.227941x0.16413)\n",
       "dropoff_longitude       AxesSubplot(0.125,0.518913;0.227941x0.16413)\n",
       "dropoff_latitude     AxesSubplot(0.398529,0.518913;0.227941x0.16413)\n",
       "passenger_count      AxesSubplot(0.672059,0.518913;0.227941x0.16413)\n",
       "hour                    AxesSubplot(0.125,0.321957;0.227941x0.16413)\n",
       "day                  AxesSubplot(0.398529,0.321957;0.227941x0.16413)\n",
       "month                AxesSubplot(0.672059,0.321957;0.227941x0.16413)\n",
       "year                       AxesSubplot(0.125,0.125;0.227941x0.16413)\n",
       "dayofweek               AxesSubplot(0.398529,0.125;0.227941x0.16413)\n",
       "dtype: object"
      ]
     },
     "execution_count": 37,
     "metadata": {},
     "output_type": "execute_result"
    },
    {
     "data": {
      "image/png": "[encoded data removed]",
      "text/plain": [
       "<Figure size 720x1080 with 12 Axes>"
      ]
     },
     "metadata": {
      "needs_background": "light"
     },
     "output_type": "display_data"
    }
   ],
   "source": [
    "df.plot(kind='box', subplots = True, layout = (4,3), figsize=(10,15))"
   ]
  },
  {
   "cell_type": "markdown",
   "id": "916ceb83-76aa-4c9f-8449-77554dea598d",
   "metadata": {},
   "source": [
    "### Conclusion : Number of spaces for subplots generated can be >= actual number of subplots (of the quantative columns) but not <the actual number of subplots\n"
   ]
  },
  {
   "cell_type": "markdown",
   "id": "23bf9e97-3ce2-47be-a010-a99c2f6b8b71",
   "metadata": {},
   "source": [
    "### Explanation of clip function"
   ]
  },
  {
   "cell_type": "code",
   "execution_count": 38,
   "id": "5a80a158-23fe-406a-8d49-c988276977fc",
   "metadata": {},
   "outputs": [
    {
     "name": "stdout",
     "output_type": "stream",
     "text": [
      "Before Clipping [10 20 30 40 50 60 70 80 90]\n",
      "After Clipping [30 30 30 40 50 60 60 60 60]\n"
     ]
    }
   ],
   "source": [
    "a = np.arange(10,100,10) #consider from 10 to 99 with step size of 10\n",
    "a1= np.clip(a,30,60)     # np.clip(list, lowerlimit, upperlimit)\n",
    "print('Before Clipping',a)\n",
    "print('After Clipping',a1)"
   ]
  },
  {
   "cell_type": "code",
   "execution_count": 39,
   "id": "25665075-7ed0-4bed-974e-b2536a524ff7",
   "metadata": {},
   "outputs": [],
   "source": [
    "# Elimination of Outlier using Interquartile range to fill the values\n",
    "def remove_outlier(df1,col):\n",
    "    Q1 = df1[col].quantile(0.25)\n",
    "    Q2 = df1[col].quantile(0.50)\n",
    "    Q3 = df1[col].quantile(0.75)\n",
    "    IQR = Q3 - Q1\n",
    "    lower_whisker = Q1 - 1.5*IQR\n",
    "    upper_whisker = Q3 + 1.5*IQR\n",
    "    print(\".......**************************.......\")\n",
    "    print(\"col : \",col , \" Q1 : \",Q1, \" Q3 : \",Q2 , \" Q3 : \",Q3)\n",
    "    print(\".......**************************.......\")       \n",
    "    df1[col] = np.clip(df1[col], lower_whisker, upper_whisker)\n",
    "    return df1\n",
    "\n",
    "def treat_outliers_all(df1, col_list):\n",
    "    print('Column List : ',col_list)\n",
    "    for c in col_list:\n",
    "        df1= remove_outlier(df1, c)\n",
    "    return df1"
   ]
  },
  {
   "cell_type": "code",
   "execution_count": 40,
   "id": "37a504f3-4776-4f1d-99f1-505088726a1a",
   "metadata": {},
   "outputs": [
    {
     "name": "stdout",
     "output_type": "stream",
     "text": [
      "Column List :  Index(['fare_amount', 'pickup_longitude', 'pickup_latitude',\n",
      "       'dropoff_longitude', 'dropoff_latitude', 'passenger_count', 'hour',\n",
      "       'day', 'month', 'year', 'dayofweek'],\n",
      "      dtype='object')\n",
      ".......**************************.......\n",
      "col :  fare_amount  Q1 :  6.0  Q3 :  8.5  Q3 :  12.5\n",
      ".......**************************.......\n",
      ".......**************************.......\n",
      "col :  pickup_longitude  Q1 :  -73.992065  Q3 :  -73.98182299999999  Q3 :  -73.96715350000001\n",
      ".......**************************.......\n",
      ".......**************************.......\n",
      "col :  pickup_latitude  Q1 :  40.73479575  Q3 :  40.752592  Q3 :  40.767158\n",
      ".......**************************.......\n",
      ".......**************************.......\n",
      "col :  dropoff_longitude  Q1 :  -73.991407  Q3 :  -73.98009300000001  Q3 :  -73.963658\n",
      ".......**************************.......\n",
      ".......**************************.......\n",
      "col :  dropoff_latitude  Q1 :  40.733823  Q3 :  40.753042  Q3 :  40.76800113909912\n",
      ".......**************************.......\n",
      ".......**************************.......\n",
      "col :  passenger_count  Q1 :  1.0  Q3 :  1.0  Q3 :  2.0\n",
      ".......**************************.......\n",
      ".......**************************.......\n",
      "col :  hour  Q1 :  9.0  Q3 :  14.0  Q3 :  19.0\n",
      ".......**************************.......\n",
      ".......**************************.......\n",
      "col :  day  Q1 :  8.0  Q3 :  16.0  Q3 :  23.0\n",
      ".......**************************.......\n",
      ".......**************************.......\n",
      "col :  month  Q1 :  3.0  Q3 :  6.0  Q3 :  9.0\n",
      ".......**************************.......\n",
      ".......**************************.......\n",
      "col :  year  Q1 :  2010.0  Q3 :  2012.0  Q3 :  2013.0\n",
      ".......**************************.......\n",
      ".......**************************.......\n",
      "col :  dayofweek  Q1 :  1.0  Q3 :  3.0  Q3 :  5.0\n",
      ".......**************************.......\n"
     ]
    }
   ],
   "source": [
    "df=treat_outliers_all( df, df.columns) "
   ]
  },
  {
   "cell_type": "code",
   "execution_count": 41,
   "id": "2d881168-e308-40e1-8b7d-eaa655ec1519",
   "metadata": {},
   "outputs": [
    {
     "data": {
      "text/plain": [
       "fare_amount             AxesSubplot(0.125,0.787927;0.352273x0.0920732)\n",
       "pickup_longitude     AxesSubplot(0.547727,0.787927;0.352273x0.0920732)\n",
       "pickup_latitude         AxesSubplot(0.125,0.677439;0.352273x0.0920732)\n",
       "dropoff_longitude    AxesSubplot(0.547727,0.677439;0.352273x0.0920732)\n",
       "dropoff_latitude        AxesSubplot(0.125,0.566951;0.352273x0.0920732)\n",
       "passenger_count      AxesSubplot(0.547727,0.566951;0.352273x0.0920732)\n",
       "hour                    AxesSubplot(0.125,0.456463;0.352273x0.0920732)\n",
       "day                  AxesSubplot(0.547727,0.456463;0.352273x0.0920732)\n",
       "month                   AxesSubplot(0.125,0.345976;0.352273x0.0920732)\n",
       "year                 AxesSubplot(0.547727,0.345976;0.352273x0.0920732)\n",
       "dayofweek               AxesSubplot(0.125,0.235488;0.352273x0.0920732)\n",
       "dtype: object"
      ]
     },
     "execution_count": 41,
     "metadata": {},
     "output_type": "execute_result"
    },
    {
     "data": {
      "image/png": "[encoded data removed]",
      "text/plain": [
       "<Figure size 720x1080 with 14 Axes>"
      ]
     },
     "metadata": {
      "needs_background": "light"
     },
     "output_type": "display_data"
    }
   ],
   "source": [
    "df.plot(kind='box' , subplots=True , layout=(7,2) , figsize=(10,15))"
   ]
  },
  {
   "cell_type": "code",
   "execution_count": 42,
   "id": "28c07353-7bd9-4f72-b69b-690d0e20cf21",
   "metadata": {},
   "outputs": [
    {
     "name": "stdout",
     "output_type": "stream",
     "text": [
      "Requirement already satisfied: haversine in /Library/Frameworks/Python.framework/Versions/3.10/lib/python3.10/site-packages (2.8.1)\n",
      "Note: you may need to restart the kernel to use updated packages.\n"
     ]
    }
   ],
   "source": [
    "pip install haversine"
   ]
  },
  {
   "cell_type": "code",
   "execution_count": 43,
   "id": "06866adb-61cc-4465-8612-659169f586fb",
   "metadata": {},
   "outputs": [
    {
     "name": "stderr",
     "output_type": "stream",
     "text": [
      "IOPub data rate exceeded.\n",
      "The Jupyter server will temporarily stop sending output\n",
      "to the client in order to avoid crashing it.\n",
      "To change this limit, set the config variable\n",
      "`--ServerApp.iopub_data_rate_limit`.\n",
      "\n",
      "Current values:\n",
      "ServerApp.iopub_data_rate_limit=1000000.0 (bytes/sec)\n",
      "ServerApp.rate_limit_window=3.0 (secs)\n",
      "\n"
     ]
    },
    {
     "data": {
      "text/html": [
       "<div>\n",
       "<style scoped>\n",
       "    .dataframe tbody tr th:only-of-type {\n",
       "        vertical-align: middle;\n",
       "    }\n",
       "\n",
       "    .dataframe tbody tr th {\n",
       "        vertical-align: top;\n",
       "    }\n",
       "\n",
       "    .dataframe thead th {\n",
       "        text-align: right;\n",
       "    }\n",
       "</style>\n",
       "<table border=\"1\" class=\"dataframe\">\n",
       "  <thead>\n",
       "    <tr style=\"text-align: right;\">\n",
       "      <th></th>\n",
       "      <th>fare_amount</th>\n",
       "      <th>pickup_longitude</th>\n",
       "      <th>pickup_latitude</th>\n",
       "      <th>dropoff_longitude</th>\n",
       "      <th>dropoff_latitude</th>\n",
       "      <th>passenger_count</th>\n",
       "      <th>hour</th>\n",
       "      <th>day</th>\n",
       "      <th>month</th>\n",
       "      <th>year</th>\n",
       "      <th>dayofweek</th>\n",
       "      <th>dis_travel_km</th>\n",
       "    </tr>\n",
       "  </thead>\n",
       "  <tbody>\n",
       "    <tr>\n",
       "      <th>0</th>\n",
       "      <td>7.50</td>\n",
       "      <td>-73.999817</td>\n",
       "      <td>40.738354</td>\n",
       "      <td>-73.999512</td>\n",
       "      <td>40.723217</td>\n",
       "      <td>1.0</td>\n",
       "      <td>19</td>\n",
       "      <td>7</td>\n",
       "      <td>5</td>\n",
       "      <td>2015</td>\n",
       "      <td>3</td>\n",
       "      <td>1.683325</td>\n",
       "    </tr>\n",
       "    <tr>\n",
       "      <th>1</th>\n",
       "      <td>7.70</td>\n",
       "      <td>-73.994355</td>\n",
       "      <td>40.728225</td>\n",
       "      <td>-73.994710</td>\n",
       "      <td>40.750325</td>\n",
       "      <td>1.0</td>\n",
       "      <td>20</td>\n",
       "      <td>17</td>\n",
       "      <td>7</td>\n",
       "      <td>2009</td>\n",
       "      <td>4</td>\n",
       "      <td>2.457593</td>\n",
       "    </tr>\n",
       "    <tr>\n",
       "      <th>2</th>\n",
       "      <td>12.90</td>\n",
       "      <td>-74.005043</td>\n",
       "      <td>40.740770</td>\n",
       "      <td>-73.962565</td>\n",
       "      <td>40.772647</td>\n",
       "      <td>1.0</td>\n",
       "      <td>21</td>\n",
       "      <td>24</td>\n",
       "      <td>8</td>\n",
       "      <td>2009</td>\n",
       "      <td>0</td>\n",
       "      <td>5.036384</td>\n",
       "    </tr>\n",
       "    <tr>\n",
       "      <th>3</th>\n",
       "      <td>5.30</td>\n",
       "      <td>-73.976124</td>\n",
       "      <td>40.790844</td>\n",
       "      <td>-73.965316</td>\n",
       "      <td>40.803349</td>\n",
       "      <td>3.0</td>\n",
       "      <td>8</td>\n",
       "      <td>26</td>\n",
       "      <td>6</td>\n",
       "      <td>2009</td>\n",
       "      <td>4</td>\n",
       "      <td>1.661686</td>\n",
       "    </tr>\n",
       "    <tr>\n",
       "      <th>4</th>\n",
       "      <td>16.00</td>\n",
       "      <td>-73.929786</td>\n",
       "      <td>40.744085</td>\n",
       "      <td>-73.973082</td>\n",
       "      <td>40.761247</td>\n",
       "      <td>3.5</td>\n",
       "      <td>17</td>\n",
       "      <td>28</td>\n",
       "      <td>8</td>\n",
       "      <td>2014</td>\n",
       "      <td>3</td>\n",
       "      <td>4.116088</td>\n",
       "    </tr>\n",
       "    <tr>\n",
       "      <th>...</th>\n",
       "      <td>...</td>\n",
       "      <td>...</td>\n",
       "      <td>...</td>\n",
       "      <td>...</td>\n",
       "      <td>...</td>\n",
       "      <td>...</td>\n",
       "      <td>...</td>\n",
       "      <td>...</td>\n",
       "      <td>...</td>\n",
       "      <td>...</td>\n",
       "      <td>...</td>\n",
       "      <td>...</td>\n",
       "    </tr>\n",
       "    <tr>\n",
       "      <th>199995</th>\n",
       "      <td>3.00</td>\n",
       "      <td>-73.987042</td>\n",
       "      <td>40.739367</td>\n",
       "      <td>-73.986525</td>\n",
       "      <td>40.740297</td>\n",
       "      <td>1.0</td>\n",
       "      <td>10</td>\n",
       "      <td>28</td>\n",
       "      <td>10</td>\n",
       "      <td>2012</td>\n",
       "      <td>6</td>\n",
       "      <td>0.112210</td>\n",
       "    </tr>\n",
       "    <tr>\n",
       "      <th>199996</th>\n",
       "      <td>7.50</td>\n",
       "      <td>-73.984722</td>\n",
       "      <td>40.736837</td>\n",
       "      <td>-74.006672</td>\n",
       "      <td>40.739620</td>\n",
       "      <td>1.0</td>\n",
       "      <td>1</td>\n",
       "      <td>14</td>\n",
       "      <td>3</td>\n",
       "      <td>2014</td>\n",
       "      <td>4</td>\n",
       "      <td>1.875053</td>\n",
       "    </tr>\n",
       "    <tr>\n",
       "      <th>199997</th>\n",
       "      <td>22.25</td>\n",
       "      <td>-73.986017</td>\n",
       "      <td>40.756487</td>\n",
       "      <td>-73.922034</td>\n",
       "      <td>40.692588</td>\n",
       "      <td>2.0</td>\n",
       "      <td>0</td>\n",
       "      <td>29</td>\n",
       "      <td>6</td>\n",
       "      <td>2009</td>\n",
       "      <td>0</td>\n",
       "      <td>8.919418</td>\n",
       "    </tr>\n",
       "    <tr>\n",
       "      <th>199998</th>\n",
       "      <td>14.50</td>\n",
       "      <td>-73.997124</td>\n",
       "      <td>40.725452</td>\n",
       "      <td>-73.983215</td>\n",
       "      <td>40.695415</td>\n",
       "      <td>1.0</td>\n",
       "      <td>14</td>\n",
       "      <td>20</td>\n",
       "      <td>5</td>\n",
       "      <td>2015</td>\n",
       "      <td>2</td>\n",
       "      <td>3.539720</td>\n",
       "    </tr>\n",
       "    <tr>\n",
       "      <th>199999</th>\n",
       "      <td>14.10</td>\n",
       "      <td>-73.984395</td>\n",
       "      <td>40.720077</td>\n",
       "      <td>-73.985508</td>\n",
       "      <td>40.768793</td>\n",
       "      <td>1.0</td>\n",
       "      <td>4</td>\n",
       "      <td>15</td>\n",
       "      <td>5</td>\n",
       "      <td>2010</td>\n",
       "      <td>5</td>\n",
       "      <td>5.417791</td>\n",
       "    </tr>\n",
       "  </tbody>\n",
       "</table>\n",
       "<p>200000 rows × 12 columns</p>\n",
       "</div>"
      ],
      "text/plain": [
       "        fare_amount  pickup_longitude  pickup_latitude  dropoff_longitude  \\\n",
       "0              7.50        -73.999817        40.738354         -73.999512   \n",
       "1              7.70        -73.994355        40.728225         -73.994710   \n",
       "2             12.90        -74.005043        40.740770         -73.962565   \n",
       "3              5.30        -73.976124        40.790844         -73.965316   \n",
       "4             16.00        -73.929786        40.744085         -73.973082   \n",
       "...             ...               ...              ...                ...   \n",
       "199995         3.00        -73.987042        40.739367         -73.986525   \n",
       "199996         7.50        -73.984722        40.736837         -74.006672   \n",
       "199997        22.25        -73.986017        40.756487         -73.922034   \n",
       "199998        14.50        -73.997124        40.725452         -73.983215   \n",
       "199999        14.10        -73.984395        40.720077         -73.985508   \n",
       "\n",
       "        dropoff_latitude  passenger_count  hour  day  month  year  dayofweek  \\\n",
       "0              40.723217              1.0    19    7      5  2015          3   \n",
       "1              40.750325              1.0    20   17      7  2009          4   \n",
       "2              40.772647              1.0    21   24      8  2009          0   \n",
       "3              40.803349              3.0     8   26      6  2009          4   \n",
       "4              40.761247              3.5    17   28      8  2014          3   \n",
       "...                  ...              ...   ...  ...    ...   ...        ...   \n",
       "199995         40.740297              1.0    10   28     10  2012          6   \n",
       "199996         40.739620              1.0     1   14      3  2014          4   \n",
       "199997         40.692588              2.0     0   29      6  2009          0   \n",
       "199998         40.695415              1.0    14   20      5  2015          2   \n",
       "199999         40.768793              1.0     4   15      5  2010          5   \n",
       "\n",
       "        dis_travel_km  \n",
       "0            1.683325  \n",
       "1            2.457593  \n",
       "2            5.036384  \n",
       "3            1.661686  \n",
       "4            4.116088  \n",
       "...               ...  \n",
       "199995       0.112210  \n",
       "199996       1.875053  \n",
       "199997       8.919418  \n",
       "199998       3.539720  \n",
       "199999       5.417791  \n",
       "\n",
       "[200000 rows x 12 columns]"
      ]
     },
     "execution_count": 43,
     "metadata": {},
     "output_type": "execute_result"
    }
   ],
   "source": [
    "import haversine as hs #calculate the distance using haversine to calculate the distance between two points. Can't use Eucleadian as it is for flat suface.\n",
    "travel_dis = []\n",
    "for pos in range(len(df.pickup_latitude)):\n",
    "    long1,lat1,long2,lat2 = [df['pickup_longitude'][pos], df['pickup_latitude'][pos], df['dropoff_longitude'][pos], df['dropoff_latitude'][pos]]\n",
    "    loc1=(lat1,long1)\n",
    "    loc2=(lat2,long2)\n",
    "    c = hs.haversine(loc1,loc2)\n",
    "    travel_dis.append( c )\n",
    "\n",
    "print(travel_dis)\n",
    "df['dis_travel_km']=travel_dis\n",
    "df"
   ]
  },
  {
   "cell_type": "code",
   "execution_count": 44,
   "id": "86ff3810-5daf-42ad-b38f-bd9fd2963422",
   "metadata": {},
   "outputs": [
    {
     "name": "stdout",
     "output_type": "stream",
     "text": [
      "Remaining observations in the datasets :  (163040, 12)\n"
     ]
    }
   ],
   "source": [
    "#uber does'nt drive less than 1 km & more than 130 km so minimize the distance\n",
    "df=df[(df.dis_travel_km >= 1) & (df.dis_travel_km <= 130)]\n",
    "print('Remaining observations in the datasets : ',df.shape) "
   ]
  },
  {
   "cell_type": "code",
   "execution_count": 45,
   "id": "53af0e37-a32d-4150-bd5f-04459ec2e0e1",
   "metadata": {},
   "outputs": [
    {
     "data": {
      "text/html": [
       "<div>\n",
       "<style scoped>\n",
       "    .dataframe tbody tr th:only-of-type {\n",
       "        vertical-align: middle;\n",
       "    }\n",
       "\n",
       "    .dataframe tbody tr th {\n",
       "        vertical-align: top;\n",
       "    }\n",
       "\n",
       "    .dataframe thead th {\n",
       "        text-align: right;\n",
       "    }\n",
       "</style>\n",
       "<table border=\"1\" class=\"dataframe\">\n",
       "  <thead>\n",
       "    <tr style=\"text-align: right;\">\n",
       "      <th></th>\n",
       "      <th>fare_amount</th>\n",
       "      <th>pickup_longitude</th>\n",
       "      <th>pickup_latitude</th>\n",
       "      <th>dropoff_longitude</th>\n",
       "      <th>dropoff_latitude</th>\n",
       "      <th>passenger_count</th>\n",
       "      <th>hour</th>\n",
       "      <th>day</th>\n",
       "      <th>month</th>\n",
       "      <th>year</th>\n",
       "      <th>dayofweek</th>\n",
       "      <th>dis_travel_km</th>\n",
       "    </tr>\n",
       "  </thead>\n",
       "  <tbody>\n",
       "    <tr>\n",
       "      <th>0</th>\n",
       "      <td>False</td>\n",
       "      <td>False</td>\n",
       "      <td>False</td>\n",
       "      <td>False</td>\n",
       "      <td>False</td>\n",
       "      <td>False</td>\n",
       "      <td>False</td>\n",
       "      <td>False</td>\n",
       "      <td>False</td>\n",
       "      <td>False</td>\n",
       "      <td>False</td>\n",
       "      <td>False</td>\n",
       "    </tr>\n",
       "    <tr>\n",
       "      <th>1</th>\n",
       "      <td>False</td>\n",
       "      <td>False</td>\n",
       "      <td>False</td>\n",
       "      <td>False</td>\n",
       "      <td>False</td>\n",
       "      <td>False</td>\n",
       "      <td>False</td>\n",
       "      <td>False</td>\n",
       "      <td>False</td>\n",
       "      <td>False</td>\n",
       "      <td>False</td>\n",
       "      <td>False</td>\n",
       "    </tr>\n",
       "    <tr>\n",
       "      <th>2</th>\n",
       "      <td>False</td>\n",
       "      <td>False</td>\n",
       "      <td>False</td>\n",
       "      <td>False</td>\n",
       "      <td>False</td>\n",
       "      <td>False</td>\n",
       "      <td>False</td>\n",
       "      <td>False</td>\n",
       "      <td>False</td>\n",
       "      <td>False</td>\n",
       "      <td>False</td>\n",
       "      <td>False</td>\n",
       "    </tr>\n",
       "    <tr>\n",
       "      <th>3</th>\n",
       "      <td>False</td>\n",
       "      <td>False</td>\n",
       "      <td>False</td>\n",
       "      <td>False</td>\n",
       "      <td>False</td>\n",
       "      <td>False</td>\n",
       "      <td>False</td>\n",
       "      <td>False</td>\n",
       "      <td>False</td>\n",
       "      <td>False</td>\n",
       "      <td>False</td>\n",
       "      <td>False</td>\n",
       "    </tr>\n",
       "    <tr>\n",
       "      <th>4</th>\n",
       "      <td>False</td>\n",
       "      <td>False</td>\n",
       "      <td>False</td>\n",
       "      <td>False</td>\n",
       "      <td>False</td>\n",
       "      <td>False</td>\n",
       "      <td>False</td>\n",
       "      <td>False</td>\n",
       "      <td>False</td>\n",
       "      <td>False</td>\n",
       "      <td>False</td>\n",
       "      <td>False</td>\n",
       "    </tr>\n",
       "    <tr>\n",
       "      <th>...</th>\n",
       "      <td>...</td>\n",
       "      <td>...</td>\n",
       "      <td>...</td>\n",
       "      <td>...</td>\n",
       "      <td>...</td>\n",
       "      <td>...</td>\n",
       "      <td>...</td>\n",
       "      <td>...</td>\n",
       "      <td>...</td>\n",
       "      <td>...</td>\n",
       "      <td>...</td>\n",
       "      <td>...</td>\n",
       "    </tr>\n",
       "    <tr>\n",
       "      <th>199994</th>\n",
       "      <td>False</td>\n",
       "      <td>False</td>\n",
       "      <td>False</td>\n",
       "      <td>False</td>\n",
       "      <td>False</td>\n",
       "      <td>False</td>\n",
       "      <td>False</td>\n",
       "      <td>False</td>\n",
       "      <td>False</td>\n",
       "      <td>False</td>\n",
       "      <td>False</td>\n",
       "      <td>False</td>\n",
       "    </tr>\n",
       "    <tr>\n",
       "      <th>199996</th>\n",
       "      <td>False</td>\n",
       "      <td>False</td>\n",
       "      <td>False</td>\n",
       "      <td>False</td>\n",
       "      <td>False</td>\n",
       "      <td>False</td>\n",
       "      <td>False</td>\n",
       "      <td>False</td>\n",
       "      <td>False</td>\n",
       "      <td>False</td>\n",
       "      <td>False</td>\n",
       "      <td>False</td>\n",
       "    </tr>\n",
       "    <tr>\n",
       "      <th>199997</th>\n",
       "      <td>False</td>\n",
       "      <td>False</td>\n",
       "      <td>False</td>\n",
       "      <td>False</td>\n",
       "      <td>False</td>\n",
       "      <td>False</td>\n",
       "      <td>False</td>\n",
       "      <td>False</td>\n",
       "      <td>False</td>\n",
       "      <td>False</td>\n",
       "      <td>False</td>\n",
       "      <td>False</td>\n",
       "    </tr>\n",
       "    <tr>\n",
       "      <th>199998</th>\n",
       "      <td>False</td>\n",
       "      <td>False</td>\n",
       "      <td>False</td>\n",
       "      <td>False</td>\n",
       "      <td>False</td>\n",
       "      <td>False</td>\n",
       "      <td>False</td>\n",
       "      <td>False</td>\n",
       "      <td>False</td>\n",
       "      <td>False</td>\n",
       "      <td>False</td>\n",
       "      <td>False</td>\n",
       "    </tr>\n",
       "    <tr>\n",
       "      <th>199999</th>\n",
       "      <td>False</td>\n",
       "      <td>False</td>\n",
       "      <td>False</td>\n",
       "      <td>False</td>\n",
       "      <td>False</td>\n",
       "      <td>False</td>\n",
       "      <td>False</td>\n",
       "      <td>False</td>\n",
       "      <td>False</td>\n",
       "      <td>False</td>\n",
       "      <td>False</td>\n",
       "      <td>False</td>\n",
       "    </tr>\n",
       "  </tbody>\n",
       "</table>\n",
       "<p>163040 rows × 12 columns</p>\n",
       "</div>"
      ],
      "text/plain": [
       "        fare_amount  pickup_longitude  pickup_latitude  dropoff_longitude  \\\n",
       "0             False             False            False              False   \n",
       "1             False             False            False              False   \n",
       "2             False             False            False              False   \n",
       "3             False             False            False              False   \n",
       "4             False             False            False              False   \n",
       "...             ...               ...              ...                ...   \n",
       "199994        False             False            False              False   \n",
       "199996        False             False            False              False   \n",
       "199997        False             False            False              False   \n",
       "199998        False             False            False              False   \n",
       "199999        False             False            False              False   \n",
       "\n",
       "        dropoff_latitude  passenger_count   hour    day  month   year  \\\n",
       "0                  False            False  False  False  False  False   \n",
       "1                  False            False  False  False  False  False   \n",
       "2                  False            False  False  False  False  False   \n",
       "3                  False            False  False  False  False  False   \n",
       "4                  False            False  False  False  False  False   \n",
       "...                  ...              ...    ...    ...    ...    ...   \n",
       "199994             False            False  False  False  False  False   \n",
       "199996             False            False  False  False  False  False   \n",
       "199997             False            False  False  False  False  False   \n",
       "199998             False            False  False  False  False  False   \n",
       "199999             False            False  False  False  False  False   \n",
       "\n",
       "        dayofweek  dis_travel_km  \n",
       "0           False          False  \n",
       "1           False          False  \n",
       "2           False          False  \n",
       "3           False          False  \n",
       "4           False          False  \n",
       "...           ...            ...  \n",
       "199994      False          False  \n",
       "199996      False          False  \n",
       "199997      False          False  \n",
       "199998      False          False  \n",
       "199999      False          False  \n",
       "\n",
       "[163040 rows x 12 columns]"
      ]
     },
     "execution_count": 45,
     "metadata": {},
     "output_type": "execute_result"
    }
   ],
   "source": [
    "bool_df= df.isnull()\n",
    "bool_df\n"
   ]
  },
  {
   "cell_type": "code",
   "execution_count": 46,
   "id": "250f1365-4670-409b-b413-93e5937d4933",
   "metadata": {},
   "outputs": [
    {
     "data": {
      "text/plain": [
       "<AxesSubplot:>"
      ]
     },
     "execution_count": 46,
     "metadata": {},
     "output_type": "execute_result"
    },
    {
     "data": {
      "image/png": "[encoded data removed]",
      "text/plain": [
       "<Figure size 432x288 with 2 Axes>"
      ]
     },
     "metadata": {
      "needs_background": "light"
     },
     "output_type": "display_data"
    }
   ],
   "source": [
    "sns.heatmap(bool_df)"
   ]
  },
  {
   "cell_type": "code",
   "execution_count": 47,
   "id": "36e75b0d-37ef-44e3-a3a0-d96fad41bae9",
   "metadata": {},
   "outputs": [
    {
     "name": "stderr",
     "output_type": "stream",
     "text": [
      "/Library/Frameworks/Python.framework/Versions/3.10/lib/python3.10/site-packages/seaborn/matrix.py:198: RuntimeWarning: All-NaN slice encountered\n",
      "  vmin = np.nanmin(calc_data)\n",
      "/Library/Frameworks/Python.framework/Versions/3.10/lib/python3.10/site-packages/seaborn/matrix.py:203: RuntimeWarning: All-NaN slice encountered\n",
      "  vmax = np.nanmax(calc_data)\n"
     ]
    },
    {
     "data": {
      "text/plain": [
       "<AxesSubplot:>"
      ]
     },
     "execution_count": 47,
     "metadata": {},
     "output_type": "execute_result"
    },
    {
     "data": {
      "image/png": "[encoded data removed]",
      "text/plain": [
       "<Figure size 432x288 with 2 Axes>"
      ]
     },
     "metadata": {
      "needs_background": "light"
     },
     "output_type": "display_data"
    }
   ],
   "source": [
    "sns.heatmap(bool_df.corr())"
   ]
  },
  {
   "cell_type": "code",
   "execution_count": 48,
   "id": "f6740ca7-08fc-4308-88e0-4844c4a55ef4",
   "metadata": {},
   "outputs": [],
   "source": [
    "corr=df.corr() #fumction to find the correaltion"
   ]
  },
  {
   "cell_type": "code",
   "execution_count": 49,
   "id": "ac46a408-f4cb-4080-bb4d-c502c10e8646",
   "metadata": {},
   "outputs": [
    {
     "data": {
      "text/html": [
       "<div>\n",
       "<style scoped>\n",
       "    .dataframe tbody tr th:only-of-type {\n",
       "        vertical-align: middle;\n",
       "    }\n",
       "\n",
       "    .dataframe tbody tr th {\n",
       "        vertical-align: top;\n",
       "    }\n",
       "\n",
       "    .dataframe thead th {\n",
       "        text-align: right;\n",
       "    }\n",
       "</style>\n",
       "<table border=\"1\" class=\"dataframe\">\n",
       "  <thead>\n",
       "    <tr style=\"text-align: right;\">\n",
       "      <th></th>\n",
       "      <th>fare_amount</th>\n",
       "      <th>pickup_longitude</th>\n",
       "      <th>pickup_latitude</th>\n",
       "      <th>dropoff_longitude</th>\n",
       "      <th>dropoff_latitude</th>\n",
       "      <th>passenger_count</th>\n",
       "      <th>hour</th>\n",
       "      <th>day</th>\n",
       "      <th>month</th>\n",
       "      <th>year</th>\n",
       "      <th>dayofweek</th>\n",
       "      <th>dis_travel_km</th>\n",
       "    </tr>\n",
       "  </thead>\n",
       "  <tbody>\n",
       "    <tr>\n",
       "      <th>fare_amount</th>\n",
       "      <td>1.000000</td>\n",
       "      <td>0.193177</td>\n",
       "      <td>-0.119469</td>\n",
       "      <td>0.258616</td>\n",
       "      <td>-0.137745</td>\n",
       "      <td>0.015056</td>\n",
       "      <td>-0.029760</td>\n",
       "      <td>0.001607</td>\n",
       "      <td>0.031339</td>\n",
       "      <td>0.161861</td>\n",
       "      <td>0.009264</td>\n",
       "      <td>0.798927</td>\n",
       "    </tr>\n",
       "    <tr>\n",
       "      <th>pickup_longitude</th>\n",
       "      <td>0.193177</td>\n",
       "      <td>1.000000</td>\n",
       "      <td>0.425309</td>\n",
       "      <td>0.241587</td>\n",
       "      <td>0.169203</td>\n",
       "      <td>-0.012892</td>\n",
       "      <td>0.013057</td>\n",
       "      <td>-0.004459</td>\n",
       "      <td>0.000863</td>\n",
       "      <td>0.014862</td>\n",
       "      <td>-0.028392</td>\n",
       "      <td>0.130003</td>\n",
       "    </tr>\n",
       "    <tr>\n",
       "      <th>pickup_latitude</th>\n",
       "      <td>-0.119469</td>\n",
       "      <td>0.425309</td>\n",
       "      <td>1.000000</td>\n",
       "      <td>0.148775</td>\n",
       "      <td>0.358836</td>\n",
       "      <td>-0.016186</td>\n",
       "      <td>0.031484</td>\n",
       "      <td>0.002907</td>\n",
       "      <td>0.001627</td>\n",
       "      <td>-0.016172</td>\n",
       "      <td>-0.044618</td>\n",
       "      <td>-0.143530</td>\n",
       "    </tr>\n",
       "    <tr>\n",
       "      <th>dropoff_longitude</th>\n",
       "      <td>0.258616</td>\n",
       "      <td>0.241587</td>\n",
       "      <td>0.148775</td>\n",
       "      <td>1.000000</td>\n",
       "      <td>0.401698</td>\n",
       "      <td>-0.008670</td>\n",
       "      <td>-0.059730</td>\n",
       "      <td>-0.005912</td>\n",
       "      <td>0.002404</td>\n",
       "      <td>0.015657</td>\n",
       "      <td>-0.002164</td>\n",
       "      <td>0.247271</td>\n",
       "    </tr>\n",
       "    <tr>\n",
       "      <th>dropoff_latitude</th>\n",
       "      <td>-0.137745</td>\n",
       "      <td>0.169203</td>\n",
       "      <td>0.358836</td>\n",
       "      <td>0.401698</td>\n",
       "      <td>1.000000</td>\n",
       "      <td>-0.007419</td>\n",
       "      <td>0.019775</td>\n",
       "      <td>-0.000130</td>\n",
       "      <td>-0.001663</td>\n",
       "      <td>-0.010472</td>\n",
       "      <td>-0.031153</td>\n",
       "      <td>-0.111577</td>\n",
       "    </tr>\n",
       "    <tr>\n",
       "      <th>passenger_count</th>\n",
       "      <td>0.015056</td>\n",
       "      <td>-0.012892</td>\n",
       "      <td>-0.016186</td>\n",
       "      <td>-0.008670</td>\n",
       "      <td>-0.007419</td>\n",
       "      <td>1.000000</td>\n",
       "      <td>0.020203</td>\n",
       "      <td>0.002730</td>\n",
       "      <td>0.009936</td>\n",
       "      <td>-0.007765</td>\n",
       "      <td>0.047728</td>\n",
       "      <td>0.007754</td>\n",
       "    </tr>\n",
       "    <tr>\n",
       "      <th>hour</th>\n",
       "      <td>-0.029760</td>\n",
       "      <td>0.013057</td>\n",
       "      <td>0.031484</td>\n",
       "      <td>-0.059730</td>\n",
       "      <td>0.019775</td>\n",
       "      <td>0.020203</td>\n",
       "      <td>1.000000</td>\n",
       "      <td>0.005447</td>\n",
       "      <td>-0.002887</td>\n",
       "      <td>0.002574</td>\n",
       "      <td>-0.090975</td>\n",
       "      <td>-0.047252</td>\n",
       "    </tr>\n",
       "    <tr>\n",
       "      <th>day</th>\n",
       "      <td>0.001607</td>\n",
       "      <td>-0.004459</td>\n",
       "      <td>0.002907</td>\n",
       "      <td>-0.005912</td>\n",
       "      <td>-0.000130</td>\n",
       "      <td>0.002730</td>\n",
       "      <td>0.005447</td>\n",
       "      <td>1.000000</td>\n",
       "      <td>-0.017113</td>\n",
       "      <td>-0.011725</td>\n",
       "      <td>0.005673</td>\n",
       "      <td>0.001019</td>\n",
       "    </tr>\n",
       "    <tr>\n",
       "      <th>month</th>\n",
       "      <td>0.031339</td>\n",
       "      <td>0.000863</td>\n",
       "      <td>0.001627</td>\n",
       "      <td>0.002404</td>\n",
       "      <td>-0.001663</td>\n",
       "      <td>0.009936</td>\n",
       "      <td>-0.002887</td>\n",
       "      <td>-0.017113</td>\n",
       "      <td>1.000000</td>\n",
       "      <td>-0.113429</td>\n",
       "      <td>-0.010483</td>\n",
       "      <td>0.008433</td>\n",
       "    </tr>\n",
       "    <tr>\n",
       "      <th>year</th>\n",
       "      <td>0.161861</td>\n",
       "      <td>0.014862</td>\n",
       "      <td>-0.016172</td>\n",
       "      <td>0.015657</td>\n",
       "      <td>-0.010472</td>\n",
       "      <td>-0.007765</td>\n",
       "      <td>0.002574</td>\n",
       "      <td>-0.011725</td>\n",
       "      <td>-0.113429</td>\n",
       "      <td>1.000000</td>\n",
       "      <td>0.006522</td>\n",
       "      <td>0.020138</td>\n",
       "    </tr>\n",
       "    <tr>\n",
       "      <th>dayofweek</th>\n",
       "      <td>0.009264</td>\n",
       "      <td>-0.028392</td>\n",
       "      <td>-0.044618</td>\n",
       "      <td>-0.002164</td>\n",
       "      <td>-0.031153</td>\n",
       "      <td>0.047728</td>\n",
       "      <td>-0.090975</td>\n",
       "      <td>0.005673</td>\n",
       "      <td>-0.010483</td>\n",
       "      <td>0.006522</td>\n",
       "      <td>1.000000</td>\n",
       "      <td>0.029461</td>\n",
       "    </tr>\n",
       "    <tr>\n",
       "      <th>dis_travel_km</th>\n",
       "      <td>0.798927</td>\n",
       "      <td>0.130003</td>\n",
       "      <td>-0.143530</td>\n",
       "      <td>0.247271</td>\n",
       "      <td>-0.111577</td>\n",
       "      <td>0.007754</td>\n",
       "      <td>-0.047252</td>\n",
       "      <td>0.001019</td>\n",
       "      <td>0.008433</td>\n",
       "      <td>0.020138</td>\n",
       "      <td>0.029461</td>\n",
       "      <td>1.000000</td>\n",
       "    </tr>\n",
       "  </tbody>\n",
       "</table>\n",
       "</div>"
      ],
      "text/plain": [
       "                   fare_amount  pickup_longitude  pickup_latitude  \\\n",
       "fare_amount           1.000000          0.193177        -0.119469   \n",
       "pickup_longitude      0.193177          1.000000         0.425309   \n",
       "pickup_latitude      -0.119469          0.425309         1.000000   \n",
       "dropoff_longitude     0.258616          0.241587         0.148775   \n",
       "dropoff_latitude     -0.137745          0.169203         0.358836   \n",
       "passenger_count       0.015056         -0.012892        -0.016186   \n",
       "hour                 -0.029760          0.013057         0.031484   \n",
       "day                   0.001607         -0.004459         0.002907   \n",
       "month                 0.031339          0.000863         0.001627   \n",
       "year                  0.161861          0.014862        -0.016172   \n",
       "dayofweek             0.009264         -0.028392        -0.044618   \n",
       "dis_travel_km         0.798927          0.130003        -0.143530   \n",
       "\n",
       "                   dropoff_longitude  dropoff_latitude  passenger_count  \\\n",
       "fare_amount                 0.258616         -0.137745         0.015056   \n",
       "pickup_longitude            0.241587          0.169203        -0.012892   \n",
       "pickup_latitude             0.148775          0.358836        -0.016186   \n",
       "dropoff_longitude           1.000000          0.401698        -0.008670   \n",
       "dropoff_latitude            0.401698          1.000000        -0.007419   \n",
       "passenger_count            -0.008670         -0.007419         1.000000   \n",
       "hour                       -0.059730          0.019775         0.020203   \n",
       "day                        -0.005912         -0.000130         0.002730   \n",
       "month                       0.002404         -0.001663         0.009936   \n",
       "year                        0.015657         -0.010472        -0.007765   \n",
       "dayofweek                  -0.002164         -0.031153         0.047728   \n",
       "dis_travel_km               0.247271         -0.111577         0.007754   \n",
       "\n",
       "                       hour       day     month      year  dayofweek  \\\n",
       "fare_amount       -0.029760  0.001607  0.031339  0.161861   0.009264   \n",
       "pickup_longitude   0.013057 -0.004459  0.000863  0.014862  -0.028392   \n",
       "pickup_latitude    0.031484  0.002907  0.001627 -0.016172  -0.044618   \n",
       "dropoff_longitude -0.059730 -0.005912  0.002404  0.015657  -0.002164   \n",
       "dropoff_latitude   0.019775 -0.000130 -0.001663 -0.010472  -0.031153   \n",
       "passenger_count    0.020203  0.002730  0.009936 -0.007765   0.047728   \n",
       "hour               1.000000  0.005447 -0.002887  0.002574  -0.090975   \n",
       "day                0.005447  1.000000 -0.017113 -0.011725   0.005673   \n",
       "month             -0.002887 -0.017113  1.000000 -0.113429  -0.010483   \n",
       "year               0.002574 -0.011725 -0.113429  1.000000   0.006522   \n",
       "dayofweek         -0.090975  0.005673 -0.010483  0.006522   1.000000   \n",
       "dis_travel_km     -0.047252  0.001019  0.008433  0.020138   0.029461   \n",
       "\n",
       "                   dis_travel_km  \n",
       "fare_amount             0.798927  \n",
       "pickup_longitude        0.130003  \n",
       "pickup_latitude        -0.143530  \n",
       "dropoff_longitude       0.247271  \n",
       "dropoff_latitude       -0.111577  \n",
       "passenger_count         0.007754  \n",
       "hour                   -0.047252  \n",
       "day                     0.001019  \n",
       "month                   0.008433  \n",
       "year                    0.020138  \n",
       "dayofweek               0.029461  \n",
       "dis_travel_km           1.000000  "
      ]
     },
     "execution_count": 49,
     "metadata": {},
     "output_type": "execute_result"
    }
   ],
   "source": [
    "corr"
   ]
  },
  {
   "cell_type": "code",
   "execution_count": 50,
   "id": "2b113d76-70f6-4b9b-a3c4-10899c29bf36",
   "metadata": {},
   "outputs": [
    {
     "data": {
      "text/plain": [
       "<AxesSubplot:>"
      ]
     },
     "execution_count": 50,
     "metadata": {},
     "output_type": "execute_result"
    },
    {
     "data": {
      "image/png": "[encoded data removed]",
      "text/plain": [
       "<Figure size 720x576 with 2 Axes>"
      ]
     },
     "metadata": {
      "needs_background": "light"
     },
     "output_type": "display_data"
    }
   ],
   "source": [
    "#plotting heatmap on the data set\n",
    "plt.subplots(figsize=(10,8))\n",
    "sns.heatmap(df.corr() , annot = True ) #light colour means highly correlated"
   ]
  },
  {
   "cell_type": "markdown",
   "id": "dbfbf8a4-a296-48b2-9f2e-987c6bfc7e0d",
   "metadata": {},
   "source": [
    "### Dividing the datasets into target and labels"
   ]
  },
  {
   "cell_type": "code",
   "execution_count": 51,
   "id": "d110fc04-22c4-4fef-9e26-184c84a707ce",
   "metadata": {},
   "outputs": [
    {
     "data": {
      "text/plain": [
       "Index(['fare_amount', 'pickup_longitude', 'pickup_latitude',\n",
       "       'dropoff_longitude', 'dropoff_latitude', 'passenger_count', 'hour',\n",
       "       'day', 'month', 'year', 'dayofweek', 'dis_travel_km'],\n",
       "      dtype='object')"
      ]
     },
     "execution_count": 51,
     "metadata": {},
     "output_type": "execute_result"
    }
   ],
   "source": [
    "#Divide the dataset into Label and the target or input or the output\n",
    "df.columns"
   ]
  },
  {
   "cell_type": "code",
   "execution_count": 52,
   "id": "74b9dd41-97fa-41f6-bac6-4cf48fba7b9e",
   "metadata": {},
   "outputs": [],
   "source": [
    "X=df[df.columns[1:]] #target columns"
   ]
  },
  {
   "cell_type": "code",
   "execution_count": 53,
   "id": "8525dc1c-f655-427c-ad90-445b25a3f332",
   "metadata": {},
   "outputs": [],
   "source": [
    "y=df.fare_amount"
   ]
  },
  {
   "cell_type": "code",
   "execution_count": 54,
   "id": "548b27c0-3fe6-4643-b696-fa1293e2c9de",
   "metadata": {},
   "outputs": [
    {
     "data": {
      "text/html": [
       "<div>\n",
       "<style scoped>\n",
       "    .dataframe tbody tr th:only-of-type {\n",
       "        vertical-align: middle;\n",
       "    }\n",
       "\n",
       "    .dataframe tbody tr th {\n",
       "        vertical-align: top;\n",
       "    }\n",
       "\n",
       "    .dataframe thead th {\n",
       "        text-align: right;\n",
       "    }\n",
       "</style>\n",
       "<table border=\"1\" class=\"dataframe\">\n",
       "  <thead>\n",
       "    <tr style=\"text-align: right;\">\n",
       "      <th></th>\n",
       "      <th>pickup_longitude</th>\n",
       "      <th>pickup_latitude</th>\n",
       "      <th>dropoff_longitude</th>\n",
       "      <th>dropoff_latitude</th>\n",
       "      <th>passenger_count</th>\n",
       "      <th>hour</th>\n",
       "      <th>day</th>\n",
       "      <th>month</th>\n",
       "      <th>year</th>\n",
       "      <th>dayofweek</th>\n",
       "      <th>dis_travel_km</th>\n",
       "    </tr>\n",
       "  </thead>\n",
       "  <tbody>\n",
       "    <tr>\n",
       "      <th>0</th>\n",
       "      <td>-73.999817</td>\n",
       "      <td>40.738354</td>\n",
       "      <td>-73.999512</td>\n",
       "      <td>40.723217</td>\n",
       "      <td>1.0</td>\n",
       "      <td>19</td>\n",
       "      <td>7</td>\n",
       "      <td>5</td>\n",
       "      <td>2015</td>\n",
       "      <td>3</td>\n",
       "      <td>1.683325</td>\n",
       "    </tr>\n",
       "    <tr>\n",
       "      <th>1</th>\n",
       "      <td>-73.994355</td>\n",
       "      <td>40.728225</td>\n",
       "      <td>-73.994710</td>\n",
       "      <td>40.750325</td>\n",
       "      <td>1.0</td>\n",
       "      <td>20</td>\n",
       "      <td>17</td>\n",
       "      <td>7</td>\n",
       "      <td>2009</td>\n",
       "      <td>4</td>\n",
       "      <td>2.457593</td>\n",
       "    </tr>\n",
       "    <tr>\n",
       "      <th>2</th>\n",
       "      <td>-74.005043</td>\n",
       "      <td>40.740770</td>\n",
       "      <td>-73.962565</td>\n",
       "      <td>40.772647</td>\n",
       "      <td>1.0</td>\n",
       "      <td>21</td>\n",
       "      <td>24</td>\n",
       "      <td>8</td>\n",
       "      <td>2009</td>\n",
       "      <td>0</td>\n",
       "      <td>5.036384</td>\n",
       "    </tr>\n",
       "    <tr>\n",
       "      <th>3</th>\n",
       "      <td>-73.976124</td>\n",
       "      <td>40.790844</td>\n",
       "      <td>-73.965316</td>\n",
       "      <td>40.803349</td>\n",
       "      <td>3.0</td>\n",
       "      <td>8</td>\n",
       "      <td>26</td>\n",
       "      <td>6</td>\n",
       "      <td>2009</td>\n",
       "      <td>4</td>\n",
       "      <td>1.661686</td>\n",
       "    </tr>\n",
       "    <tr>\n",
       "      <th>4</th>\n",
       "      <td>-73.929786</td>\n",
       "      <td>40.744085</td>\n",
       "      <td>-73.973082</td>\n",
       "      <td>40.761247</td>\n",
       "      <td>3.5</td>\n",
       "      <td>17</td>\n",
       "      <td>28</td>\n",
       "      <td>8</td>\n",
       "      <td>2014</td>\n",
       "      <td>3</td>\n",
       "      <td>4.116088</td>\n",
       "    </tr>\n",
       "  </tbody>\n",
       "</table>\n",
       "</div>"
      ],
      "text/plain": [
       "   pickup_longitude  pickup_latitude  dropoff_longitude  dropoff_latitude  \\\n",
       "0        -73.999817        40.738354         -73.999512         40.723217   \n",
       "1        -73.994355        40.728225         -73.994710         40.750325   \n",
       "2        -74.005043        40.740770         -73.962565         40.772647   \n",
       "3        -73.976124        40.790844         -73.965316         40.803349   \n",
       "4        -73.929786        40.744085         -73.973082         40.761247   \n",
       "\n",
       "   passenger_count  hour  day  month  year  dayofweek  dis_travel_km  \n",
       "0              1.0    19    7      5  2015          3       1.683325  \n",
       "1              1.0    20   17      7  2009          4       2.457593  \n",
       "2              1.0    21   24      8  2009          0       5.036384  \n",
       "3              3.0     8   26      6  2009          4       1.661686  \n",
       "4              3.5    17   28      8  2014          3       4.116088  "
      ]
     },
     "execution_count": 54,
     "metadata": {},
     "output_type": "execute_result"
    }
   ],
   "source": [
    "X.head()"
   ]
  },
  {
   "cell_type": "code",
   "execution_count": 55,
   "id": "a1aeb3c7-f378-4f6a-8b7a-8989c6801ff0",
   "metadata": {},
   "outputs": [
    {
     "data": {
      "text/plain": [
       "0     7.5\n",
       "1     7.7\n",
       "2    12.9\n",
       "3     5.3\n",
       "4    16.0\n",
       "Name: fare_amount, dtype: float64"
      ]
     },
     "execution_count": 55,
     "metadata": {},
     "output_type": "execute_result"
    }
   ],
   "source": [
    "y.head()"
   ]
  },
  {
   "cell_type": "markdown",
   "id": "a4380bc0-a2a4-4b9c-ae4e-7be36782898b",
   "metadata": {},
   "source": [
    "## Dividing the datasets into training & testing datasets"
   ]
  },
  {
   "cell_type": "code",
   "execution_count": 144,
   "id": "0fa45f52-5360-4890-bb68-89468eec2783",
   "metadata": {},
   "outputs": [],
   "source": [
    "from sklearn.model_selection import train_test_split\n",
    "X_train,X_test,y_train,y_test=train_test_split(X_std,y, test_size=0.20,random_state=42)"
   ]
  },
  {
   "cell_type": "code",
   "execution_count": 145,
   "id": "ecdbdd98-768f-4781-bd09-0edbce7d434f",
   "metadata": {},
   "outputs": [
    {
     "data": {
      "text/plain": [
       "array([[-0.72963521, -0.40232789,  0.97689652, ..., -1.48409055,\n",
       "         0.99266357,  1.15839582],\n",
       "       [ 0.88391342,  1.14509458,  0.68291519, ...,  0.13334448,\n",
       "         1.50498173, -0.37796584],\n",
       "       [-0.46165745, -0.25133475, -1.05449864, ...,  0.67248948,\n",
       "         0.48034541, -0.60443856],\n",
       "       ...,\n",
       "       [-0.81387793, -0.98671289, -1.52484368, ...,  1.7507795 ,\n",
       "         0.99266357, -0.61594458],\n",
       "       [ 1.34842235, -2.67404107,  0.43435105, ..., -0.40580053,\n",
       "        -0.03197275,  2.43448644],\n",
       "       [-0.7672084 ,  0.4023104 , -0.47256519, ..., -0.40580053,\n",
       "         0.48034541, -1.01212288]])"
      ]
     },
     "execution_count": 145,
     "metadata": {},
     "output_type": "execute_result"
    }
   ],
   "source": [
    "X_train"
   ]
  },
  {
   "cell_type": "code",
   "execution_count": 146,
   "id": "b4fb0569-d582-4615-b3a8-1413c2610a15",
   "metadata": {},
   "outputs": [
    {
     "data": {
      "text/plain": [
       "array([[-0.67481111,  0.28337603, -0.71110487, ..., -1.48409055,\n",
       "        -1.56892723, -0.45438457],\n",
       "       [-0.51432919, -0.69549806, -0.29254587, ...,  1.7507795 ,\n",
       "         0.99266357, -0.38315055],\n",
       "       [-1.82729465, -1.4952894 , -0.84365713, ...,  0.13334448,\n",
       "        -1.05660907,  0.38340709],\n",
       "       ...,\n",
       "       [ 1.17308369,  1.34501954,  1.44554403, ...,  0.13334448,\n",
       "        -0.54429091, -0.83524359],\n",
       "       [-0.15477556,  0.73429776, -0.53557739, ..., -0.40580053,\n",
       "         0.48034541, -0.98816445],\n",
       "       [-0.46201577, -0.97720474, -1.35174392, ..., -0.40580053,\n",
       "        -1.05660907, -0.3507564 ]])"
      ]
     },
     "execution_count": 146,
     "metadata": {},
     "output_type": "execute_result"
    }
   ],
   "source": [
    "X_test"
   ]
  },
  {
   "cell_type": "code",
   "execution_count": 147,
   "id": "d8b7d0f5-8ad7-4013-b0f8-1576eb88863e",
   "metadata": {},
   "outputs": [
    {
     "data": {
      "text/plain": [
       "162755    10.50\n",
       "98963      8.10\n",
       "18976     11.00\n",
       "117355     5.50\n",
       "131159    22.25\n",
       "          ...  \n",
       "147051     6.50\n",
       "127158     8.50\n",
       "161902     7.00\n",
       "180207    10.10\n",
       "149639     3.70\n",
       "Name: fare_amount, Length: 130432, dtype: float64"
      ]
     },
     "execution_count": 147,
     "metadata": {},
     "output_type": "execute_result"
    }
   ],
   "source": [
    "y_train"
   ]
  },
  {
   "cell_type": "code",
   "execution_count": 148,
   "id": "eaa5a24f-5e3d-4dc6-8312-58e5c09fa7a5",
   "metadata": {},
   "outputs": [
    {
     "data": {
      "text/plain": [
       "84906      8.1\n",
       "197858    11.0\n",
       "159216    10.9\n",
       "125619    15.7\n",
       "19806     11.0\n",
       "          ... \n",
       "101058     7.0\n",
       "39460      2.9\n",
       "161258     8.5\n",
       "26245      5.3\n",
       "74563      7.7\n",
       "Name: fare_amount, Length: 32608, dtype: float64"
      ]
     },
     "execution_count": 148,
     "metadata": {},
     "output_type": "execute_result"
    }
   ],
   "source": [
    "y_test"
   ]
  },
  {
   "cell_type": "code",
   "execution_count": 149,
   "id": "f862430a-1657-4692-be7e-385d7d97a860",
   "metadata": {},
   "outputs": [],
   "source": [
    "from sklearn.linear_model import LinearRegression\n",
    "regression= LinearRegression()"
   ]
  },
  {
   "cell_type": "code",
   "execution_count": 150,
   "id": "52175393-3aae-49dc-8c9d-0409a372384f",
   "metadata": {},
   "outputs": [
    {
     "data": {
      "text/plain": [
       "LinearRegression()"
      ]
     },
     "execution_count": 150,
     "metadata": {},
     "output_type": "execute_result"
    }
   ],
   "source": [
    "regression.fit(X_train,y_train)"
   ]
  },
  {
   "cell_type": "code",
   "execution_count": 151,
   "id": "881833af-a5a7-426c-9612-2225523e45cc",
   "metadata": {},
   "outputs": [
    {
     "data": {
      "text/plain": [
       "10.974822138549422"
      ]
     },
     "execution_count": 151,
     "metadata": {},
     "output_type": "execute_result"
    }
   ],
   "source": [
    " regression.intercept_"
   ]
  },
  {
   "cell_type": "code",
   "execution_count": 152,
   "id": "d25bd20c-bfb2-43cf-bd09-03e3ab00a895",
   "metadata": {},
   "outputs": [
    {
     "data": {
      "text/plain": [
       "array([ 0.54311233, -0.1711075 ,  0.47523381, -0.51830714,  0.05681145,\n",
       "        0.05706274,  0.01755483,  0.2200428 ,  0.78698494, -0.07864407,\n",
       "        3.97960822])"
      ]
     },
     "execution_count": 152,
     "metadata": {},
     "output_type": "execute_result"
    }
   ],
   "source": [
    "regression.coef_"
   ]
  },
  {
   "cell_type": "code",
   "execution_count": 153,
   "id": "19b15d24-0efe-4e55-8895-d978804a3dce",
   "metadata": {},
   "outputs": [],
   "source": [
    "y_pred=regression.predict(X_test)   #to predict the value"
   ]
  },
  {
   "cell_type": "code",
   "execution_count": 154,
   "id": "82308534-c4f9-4c8b-8462-5c8edee548ca",
   "metadata": {},
   "outputs": [],
   "source": [
    "comparison=pd.DataFrame({\"Actual Label\":y_test,\"Predicted Label\":y_pred})"
   ]
  },
  {
   "cell_type": "code",
   "execution_count": 155,
   "id": "3b0b9a23-3e5c-499b-937b-27719a288cad",
   "metadata": {},
   "outputs": [
    {
     "data": {
      "text/html": [
       "<div>\n",
       "<style scoped>\n",
       "    .dataframe tbody tr th:only-of-type {\n",
       "        vertical-align: middle;\n",
       "    }\n",
       "\n",
       "    .dataframe tbody tr th {\n",
       "        vertical-align: top;\n",
       "    }\n",
       "\n",
       "    .dataframe thead th {\n",
       "        text-align: right;\n",
       "    }\n",
       "</style>\n",
       "<table border=\"1\" class=\"dataframe\">\n",
       "  <thead>\n",
       "    <tr style=\"text-align: right;\">\n",
       "      <th></th>\n",
       "      <th>Actual Label</th>\n",
       "      <th>Predicted Label</th>\n",
       "    </tr>\n",
       "  </thead>\n",
       "  <tbody>\n",
       "    <tr>\n",
       "      <th>84906</th>\n",
       "      <td>8.1</td>\n",
       "      <td>7.854541</td>\n",
       "    </tr>\n",
       "    <tr>\n",
       "      <th>197858</th>\n",
       "      <td>11.0</td>\n",
       "      <td>10.391873</td>\n",
       "    </tr>\n",
       "    <tr>\n",
       "      <th>159216</th>\n",
       "      <td>10.9</td>\n",
       "      <td>11.233910</td>\n",
       "    </tr>\n",
       "    <tr>\n",
       "      <th>125619</th>\n",
       "      <td>15.7</td>\n",
       "      <td>8.994059</td>\n",
       "    </tr>\n",
       "    <tr>\n",
       "      <th>19806</th>\n",
       "      <td>11.0</td>\n",
       "      <td>13.982142</td>\n",
       "    </tr>\n",
       "    <tr>\n",
       "      <th>...</th>\n",
       "      <td>...</td>\n",
       "      <td>...</td>\n",
       "    </tr>\n",
       "    <tr>\n",
       "      <th>101058</th>\n",
       "      <td>7.0</td>\n",
       "      <td>8.232227</td>\n",
       "    </tr>\n",
       "    <tr>\n",
       "      <th>39460</th>\n",
       "      <td>2.9</td>\n",
       "      <td>7.137128</td>\n",
       "    </tr>\n",
       "    <tr>\n",
       "      <th>161258</th>\n",
       "      <td>8.5</td>\n",
       "      <td>8.039556</td>\n",
       "    </tr>\n",
       "    <tr>\n",
       "      <th>26245</th>\n",
       "      <td>5.3</td>\n",
       "      <td>5.672283</td>\n",
       "    </tr>\n",
       "    <tr>\n",
       "      <th>74563</th>\n",
       "      <td>7.7</td>\n",
       "      <td>9.652488</td>\n",
       "    </tr>\n",
       "  </tbody>\n",
       "</table>\n",
       "<p>32608 rows × 2 columns</p>\n",
       "</div>"
      ],
      "text/plain": [
       "        Actual Label  Predicted Label\n",
       "84906            8.1         7.854541\n",
       "197858          11.0        10.391873\n",
       "159216          10.9        11.233910\n",
       "125619          15.7         8.994059\n",
       "19806           11.0        13.982142\n",
       "...              ...              ...\n",
       "101058           7.0         8.232227\n",
       "39460            2.9         7.137128\n",
       "161258           8.5         8.039556\n",
       "26245            5.3         5.672283\n",
       "74563            7.7         9.652488\n",
       "\n",
       "[32608 rows x 2 columns]"
      ]
     },
     "execution_count": 155,
     "metadata": {},
     "output_type": "execute_result"
    }
   ],
   "source": [
    "comparison"
   ]
  },
  {
   "cell_type": "code",
   "execution_count": 156,
   "id": "02a29a7b-9b3c-4b62-8875-035f55d2fa4c",
   "metadata": {},
   "outputs": [
    {
     "data": {
      "text/html": [
       "<div>\n",
       "<style scoped>\n",
       "    .dataframe tbody tr th:only-of-type {\n",
       "        vertical-align: middle;\n",
       "    }\n",
       "\n",
       "    .dataframe tbody tr th {\n",
       "        vertical-align: top;\n",
       "    }\n",
       "\n",
       "    .dataframe thead th {\n",
       "        text-align: right;\n",
       "    }\n",
       "</style>\n",
       "<table border=\"1\" class=\"dataframe\">\n",
       "  <thead>\n",
       "    <tr style=\"text-align: right;\">\n",
       "      <th></th>\n",
       "      <th>index</th>\n",
       "      <th>Actual Label</th>\n",
       "      <th>Predicted Label</th>\n",
       "    </tr>\n",
       "  </thead>\n",
       "  <tbody>\n",
       "    <tr>\n",
       "      <th>0</th>\n",
       "      <td>84906</td>\n",
       "      <td>8.1</td>\n",
       "      <td>7.854541</td>\n",
       "    </tr>\n",
       "    <tr>\n",
       "      <th>1</th>\n",
       "      <td>197858</td>\n",
       "      <td>11.0</td>\n",
       "      <td>10.391873</td>\n",
       "    </tr>\n",
       "    <tr>\n",
       "      <th>2</th>\n",
       "      <td>159216</td>\n",
       "      <td>10.9</td>\n",
       "      <td>11.233910</td>\n",
       "    </tr>\n",
       "    <tr>\n",
       "      <th>3</th>\n",
       "      <td>125619</td>\n",
       "      <td>15.7</td>\n",
       "      <td>8.994059</td>\n",
       "    </tr>\n",
       "    <tr>\n",
       "      <th>4</th>\n",
       "      <td>19806</td>\n",
       "      <td>11.0</td>\n",
       "      <td>13.982142</td>\n",
       "    </tr>\n",
       "    <tr>\n",
       "      <th>...</th>\n",
       "      <td>...</td>\n",
       "      <td>...</td>\n",
       "      <td>...</td>\n",
       "    </tr>\n",
       "    <tr>\n",
       "      <th>32603</th>\n",
       "      <td>101058</td>\n",
       "      <td>7.0</td>\n",
       "      <td>8.232227</td>\n",
       "    </tr>\n",
       "    <tr>\n",
       "      <th>32604</th>\n",
       "      <td>39460</td>\n",
       "      <td>2.9</td>\n",
       "      <td>7.137128</td>\n",
       "    </tr>\n",
       "    <tr>\n",
       "      <th>32605</th>\n",
       "      <td>161258</td>\n",
       "      <td>8.5</td>\n",
       "      <td>8.039556</td>\n",
       "    </tr>\n",
       "    <tr>\n",
       "      <th>32606</th>\n",
       "      <td>26245</td>\n",
       "      <td>5.3</td>\n",
       "      <td>5.672283</td>\n",
       "    </tr>\n",
       "    <tr>\n",
       "      <th>32607</th>\n",
       "      <td>74563</td>\n",
       "      <td>7.7</td>\n",
       "      <td>9.652488</td>\n",
       "    </tr>\n",
       "  </tbody>\n",
       "</table>\n",
       "<p>32608 rows × 3 columns</p>\n",
       "</div>"
      ],
      "text/plain": [
       "        index  Actual Label  Predicted Label\n",
       "0       84906           8.1         7.854541\n",
       "1      197858          11.0        10.391873\n",
       "2      159216          10.9        11.233910\n",
       "3      125619          15.7         8.994059\n",
       "4       19806          11.0        13.982142\n",
       "...       ...           ...              ...\n",
       "32603  101058           7.0         8.232227\n",
       "32604   39460           2.9         7.137128\n",
       "32605  161258           8.5         8.039556\n",
       "32606   26245           5.3         5.672283\n",
       "32607   74563           7.7         9.652488\n",
       "\n",
       "[32608 rows x 3 columns]"
      ]
     },
     "execution_count": 156,
     "metadata": {},
     "output_type": "execute_result"
    }
   ],
   "source": [
    "comparison.reset_index()"
   ]
  },
  {
   "cell_type": "code",
   "execution_count": 157,
   "id": "c583a1ef-80fe-42cf-aef1-08b6107fb037",
   "metadata": {},
   "outputs": [
    {
     "data": {
      "text/html": [
       "<div>\n",
       "<style scoped>\n",
       "    .dataframe tbody tr th:only-of-type {\n",
       "        vertical-align: middle;\n",
       "    }\n",
       "\n",
       "    .dataframe tbody tr th {\n",
       "        vertical-align: top;\n",
       "    }\n",
       "\n",
       "    .dataframe thead th {\n",
       "        text-align: right;\n",
       "    }\n",
       "</style>\n",
       "<table border=\"1\" class=\"dataframe\">\n",
       "  <thead>\n",
       "    <tr style=\"text-align: right;\">\n",
       "      <th></th>\n",
       "      <th>Actual Label</th>\n",
       "      <th>Predicted Label</th>\n",
       "    </tr>\n",
       "  </thead>\n",
       "  <tbody>\n",
       "    <tr>\n",
       "      <th>0</th>\n",
       "      <td>8.1</td>\n",
       "      <td>7.854541</td>\n",
       "    </tr>\n",
       "    <tr>\n",
       "      <th>1</th>\n",
       "      <td>11.0</td>\n",
       "      <td>10.391873</td>\n",
       "    </tr>\n",
       "    <tr>\n",
       "      <th>2</th>\n",
       "      <td>10.9</td>\n",
       "      <td>11.233910</td>\n",
       "    </tr>\n",
       "    <tr>\n",
       "      <th>3</th>\n",
       "      <td>15.7</td>\n",
       "      <td>8.994059</td>\n",
       "    </tr>\n",
       "    <tr>\n",
       "      <th>4</th>\n",
       "      <td>11.0</td>\n",
       "      <td>13.982142</td>\n",
       "    </tr>\n",
       "    <tr>\n",
       "      <th>...</th>\n",
       "      <td>...</td>\n",
       "      <td>...</td>\n",
       "    </tr>\n",
       "    <tr>\n",
       "      <th>32603</th>\n",
       "      <td>7.0</td>\n",
       "      <td>8.232227</td>\n",
       "    </tr>\n",
       "    <tr>\n",
       "      <th>32604</th>\n",
       "      <td>2.9</td>\n",
       "      <td>7.137128</td>\n",
       "    </tr>\n",
       "    <tr>\n",
       "      <th>32605</th>\n",
       "      <td>8.5</td>\n",
       "      <td>8.039556</td>\n",
       "    </tr>\n",
       "    <tr>\n",
       "      <th>32606</th>\n",
       "      <td>5.3</td>\n",
       "      <td>5.672283</td>\n",
       "    </tr>\n",
       "    <tr>\n",
       "      <th>32607</th>\n",
       "      <td>7.7</td>\n",
       "      <td>9.652488</td>\n",
       "    </tr>\n",
       "  </tbody>\n",
       "</table>\n",
       "<p>32608 rows × 2 columns</p>\n",
       "</div>"
      ],
      "text/plain": [
       "       Actual Label  Predicted Label\n",
       "0               8.1         7.854541\n",
       "1              11.0        10.391873\n",
       "2              10.9        11.233910\n",
       "3              15.7         8.994059\n",
       "4              11.0        13.982142\n",
       "...             ...              ...\n",
       "32603           7.0         8.232227\n",
       "32604           2.9         7.137128\n",
       "32605           8.5         8.039556\n",
       "32606           5.3         5.672283\n",
       "32607           7.7         9.652488\n",
       "\n",
       "[32608 rows x 2 columns]"
      ]
     },
     "execution_count": 157,
     "metadata": {},
     "output_type": "execute_result"
    }
   ],
   "source": [
    "comparison.reset_index().drop(['index'],axis=1)"
   ]
  },
  {
   "cell_type": "code",
   "execution_count": 158,
   "id": "5bbb44be-fcda-468f-b3a8-ba4550743059",
   "metadata": {},
   "outputs": [
    {
     "data": {
      "text/plain": [
       "<AxesSubplot:>"
      ]
     },
     "execution_count": 158,
     "metadata": {},
     "output_type": "execute_result"
    },
    {
     "data": {
      "image/png": "[encoded data removed]",
      "text/plain": [
       "<Figure size 432x288 with 2 Axes>"
      ]
     },
     "metadata": {
      "needs_background": "light"
     },
     "output_type": "display_data"
    }
   ],
   "source": [
    "sns.heatmap(comparison.corr())"
   ]
  },
  {
   "cell_type": "markdown",
   "id": "bbb09b25-85a8-481e-abb9-985b6d908a9e",
   "metadata": {},
   "source": [
    "## Metrics Evaluation using R2, Mean Squared Error, Root Mean Squared Error"
   ]
  },
  {
   "cell_type": "code",
   "execution_count": 159,
   "id": "210335fb-60a5-457e-9add-0f2788a8caec",
   "metadata": {},
   "outputs": [],
   "source": [
    "from sklearn.metrics import r2_score\n",
    "from sklearn.metrics import mean_squared_error"
   ]
  },
  {
   "cell_type": "code",
   "execution_count": 160,
   "id": "bf95afdc-cfea-4e08-9988-68980414cf63",
   "metadata": {},
   "outputs": [
    {
     "data": {
      "text/plain": [
       "0.6756850347887022"
      ]
     },
     "execution_count": 160,
     "metadata": {},
     "output_type": "execute_result"
    }
   ],
   "source": [
    "r2_score(y_test,y_pred)"
   ]
  },
  {
   "cell_type": "code",
   "execution_count": 161,
   "id": "dc9a0b92-fe58-479b-a6e1-3e1bea14e93b",
   "metadata": {},
   "outputs": [],
   "source": [
    "MSE = mean_squared_error(y_test,y_pred)"
   ]
  },
  {
   "cell_type": "code",
   "execution_count": 162,
   "id": "aa5e8d05-8603-477c-9e98-30e41f0cdbe3",
   "metadata": {},
   "outputs": [
    {
     "data": {
      "text/plain": [
       "9.328521145502624"
      ]
     },
     "execution_count": 162,
     "metadata": {},
     "output_type": "execute_result"
    }
   ],
   "source": [
    "MSE"
   ]
  },
  {
   "cell_type": "code",
   "execution_count": 163,
   "id": "0ba1bd29-aeb3-4b8f-9153-2d2ab3ec000b",
   "metadata": {},
   "outputs": [],
   "source": [
    "RMSE = np.sqrt(MSE)"
   ]
  },
  {
   "cell_type": "code",
   "execution_count": 164,
   "id": "25f9fdf0-62e9-48fd-8a92-5b79d9e8b2a7",
   "metadata": {},
   "outputs": [
    {
     "data": {
      "text/plain": [
       "3.0542627826535527"
      ]
     },
     "execution_count": 164,
     "metadata": {},
     "output_type": "execute_result"
    }
   ],
   "source": [
    "RMSE"
   ]
  },
  {
   "cell_type": "markdown",
   "id": "524cb8b7-5c8b-401e-9f3d-e7cf093fd832",
   "metadata": {},
   "source": [
    "### Standard Scaler"
   ]
  },
  {
   "cell_type": "code",
   "execution_count": 143,
   "id": "cc22782e-9764-41a1-8d2f-9a302423d848",
   "metadata": {},
   "outputs": [],
   "source": [
    "from sklearn.preprocessing import StandardScaler\n",
    "X_std = StandardScaler().fit_transform(X)"
   ]
  },
  {
   "cell_type": "markdown",
   "id": "5dcc7672-4e5a-4765-9946-2a2c5e57f334",
   "metadata": {},
   "source": [
    "## Random Forest Regressor"
   ]
  },
  {
   "cell_type": "code",
   "execution_count": 165,
   "id": "f6031b39-7296-470c-a7a8-a4bb27a716a4",
   "metadata": {},
   "outputs": [],
   "source": [
    "from sklearn.ensemble import RandomForestRegressor"
   ]
  },
  {
   "cell_type": "code",
   "execution_count": 166,
   "id": "2c6312d4-eb4a-4ddf-884c-68c906bbe5e9",
   "metadata": {},
   "outputs": [],
   "source": [
    "rf = RandomForestRegressor(n_estimators=300,max_depth=20,max_features=5,random_state=16) # here n_estimators means no. of Decision Trees to be made to make the prediction"
   ]
  },
  {
   "cell_type": "code",
   "execution_count": 167,
   "id": "cc1ac2dd-746c-4b47-bf3c-c674433af794",
   "metadata": {},
   "outputs": [
    {
     "data": {
      "text/plain": [
       "'from sklearn.model_selection import KFold, cross_val_score\\nk_fold = KFold(n_splits=5, shuffle=True, random_state=42)'"
      ]
     },
     "execution_count": 167,
     "metadata": {},
     "output_type": "execute_result"
    }
   ],
   "source": [
    "'''from sklearn.model_selection import KFold, cross_val_score\n",
    "k_fold = KFold(n_splits=5, shuffle=True, random_state=42)'''\n"
   ]
  },
  {
   "cell_type": "code",
   "execution_count": 168,
   "id": "6522a048-d0d8-40f6-8d54-118d345ff784",
   "metadata": {},
   "outputs": [],
   "source": [
    "#mse_scores = cross_val_score(rf, X, y, cv=k_fold, scoring='neg_mean_squared_error')\n"
   ]
  },
  {
   "cell_type": "code",
   "execution_count": 169,
   "id": "3a932935-639b-4fe2-9d3e-9858b4b45aac",
   "metadata": {},
   "outputs": [],
   "source": [
    "#rmse_scores"
   ]
  },
  {
   "cell_type": "code",
   "execution_count": 170,
   "id": "cdc88814-fc8b-4127-957d-0c5b17ad7d61",
   "metadata": {},
   "outputs": [
    {
     "data": {
      "text/plain": [
       "\"from sklearn.model_selection import GridSearchCV, KFold\\nfrom sklearn.metrics import mean_squared_error\\nrf = RandomForestRegressor()\\n\\nparam_grid = {\\n    'n_estimators': [100,150,200,250,300],\\n    'max_depth': [10,15,20,25,30],\\n    'max_features': [3,5,6,7,8],\\n    'min_samples_split': [2, 5, 10],\\n    'min_samples_leaf': [1, 2, 4]\\n}\\nk_fold = KFold(n_splits=5, shuffle=True, random_state=42)\\n\\ngrid_search = GridSearchCV(estimator=rf, param_grid=param_grid, cv=k_fold, n_jobs=-1)\""
      ]
     },
     "execution_count": 170,
     "metadata": {},
     "output_type": "execute_result"
    }
   ],
   "source": [
    "'''from sklearn.model_selection import GridSearchCV, KFold\n",
    "from sklearn.metrics import mean_squared_error\n",
    "rf = RandomForestRegressor()\n",
    "\n",
    "param_grid = {\n",
    "    'n_estimators': [100,150,200,250,300],\n",
    "    'max_depth': [10,15,20,25,30],\n",
    "    'max_features': [3,5,6,7,8],\n",
    "    'min_samples_split': [2, 5, 10],\n",
    "    'min_samples_leaf': [1, 2, 4]\n",
    "}\n",
    "k_fold = KFold(n_splits=5, shuffle=True, random_state=42)\n",
    "\n",
    "grid_search = GridSearchCV(estimator=rf, param_grid=param_grid, cv=k_fold, n_jobs=-1)'''"
   ]
  },
  {
   "cell_type": "code",
   "execution_count": 171,
   "id": "306dd621-3ac7-4395-be7e-2c9376a430c7",
   "metadata": {},
   "outputs": [
    {
     "data": {
      "text/plain": [
       "'grid_search.fit(X_train, y_train)\\ngrid_search.best_params_\\ngrid_search.best_estimator_\\n\\nclf.fit(X_train, y_train)\\nclf.best_params_'"
      ]
     },
     "execution_count": 171,
     "metadata": {},
     "output_type": "execute_result"
    }
   ],
   "source": [
    "\n",
    "'''grid_search.fit(X_train, y_train)\n",
    "grid_search.best_params_\n",
    "grid_search.best_estimator_\n",
    "\n",
    "clf.fit(X_train, y_train)\n",
    "clf.best_params_'''"
   ]
  },
  {
   "cell_type": "code",
   "execution_count": 172,
   "id": "f730fe77-bd15-4c92-be6a-9bdfc99c8740",
   "metadata": {},
   "outputs": [
    {
     "data": {
      "text/plain": [
       "RandomForestRegressor(max_depth=20, max_features=5, n_estimators=300,\n",
       "                      random_state=16)"
      ]
     },
     "execution_count": 172,
     "metadata": {},
     "output_type": "execute_result"
    }
   ],
   "source": [
    "rf.fit(X_train,y_train)"
   ]
  },
  {
   "cell_type": "code",
   "execution_count": 129,
   "id": "4a7bb0ce-154d-4209-9249-596c983aa771",
   "metadata": {},
   "outputs": [],
   "source": [
    "importances = rf.feature_importances_\n",
    "\n",
    "\n",
    "final_df = pd.DataFrame({\"Features\": pd.DataFrame(X).columns, \"Importances\" :importances})\n",
    "final_df.set_index('Importances')\n",
    "\n",
    "final_df = final_df.sort_values(\"Importances\", ascending=False)"
   ]
  },
  {
   "cell_type": "code",
   "execution_count": 130,
   "id": "fc7d3c17-acb2-4a23-ba2a-0ab5c3c993ec",
   "metadata": {},
   "outputs": [
    {
     "data": {
      "text/html": [
       "<div>\n",
       "<style scoped>\n",
       "    .dataframe tbody tr th:only-of-type {\n",
       "        vertical-align: middle;\n",
       "    }\n",
       "\n",
       "    .dataframe tbody tr th {\n",
       "        vertical-align: top;\n",
       "    }\n",
       "\n",
       "    .dataframe thead th {\n",
       "        text-align: right;\n",
       "    }\n",
       "</style>\n",
       "<table border=\"1\" class=\"dataframe\">\n",
       "  <thead>\n",
       "    <tr style=\"text-align: right;\">\n",
       "      <th></th>\n",
       "      <th>Features</th>\n",
       "      <th>Importances</th>\n",
       "    </tr>\n",
       "  </thead>\n",
       "  <tbody>\n",
       "    <tr>\n",
       "      <th>10</th>\n",
       "      <td>dis_travel_km</td>\n",
       "      <td>0.601383</td>\n",
       "    </tr>\n",
       "    <tr>\n",
       "      <th>2</th>\n",
       "      <td>dropoff_longitude</td>\n",
       "      <td>0.114163</td>\n",
       "    </tr>\n",
       "    <tr>\n",
       "      <th>0</th>\n",
       "      <td>pickup_longitude</td>\n",
       "      <td>0.101687</td>\n",
       "    </tr>\n",
       "    <tr>\n",
       "      <th>3</th>\n",
       "      <td>dropoff_latitude</td>\n",
       "      <td>0.055948</td>\n",
       "    </tr>\n",
       "    <tr>\n",
       "      <th>1</th>\n",
       "      <td>pickup_latitude</td>\n",
       "      <td>0.035997</td>\n",
       "    </tr>\n",
       "    <tr>\n",
       "      <th>8</th>\n",
       "      <td>year</td>\n",
       "      <td>0.033847</td>\n",
       "    </tr>\n",
       "    <tr>\n",
       "      <th>5</th>\n",
       "      <td>hour</td>\n",
       "      <td>0.020552</td>\n",
       "    </tr>\n",
       "    <tr>\n",
       "      <th>6</th>\n",
       "      <td>day</td>\n",
       "      <td>0.011875</td>\n",
       "    </tr>\n",
       "    <tr>\n",
       "      <th>7</th>\n",
       "      <td>month</td>\n",
       "      <td>0.011455</td>\n",
       "    </tr>\n",
       "    <tr>\n",
       "      <th>9</th>\n",
       "      <td>dayofweek</td>\n",
       "      <td>0.009265</td>\n",
       "    </tr>\n",
       "    <tr>\n",
       "      <th>4</th>\n",
       "      <td>passenger_count</td>\n",
       "      <td>0.003829</td>\n",
       "    </tr>\n",
       "  </tbody>\n",
       "</table>\n",
       "</div>"
      ],
      "text/plain": [
       "             Features  Importances\n",
       "10      dis_travel_km     0.601383\n",
       "2   dropoff_longitude     0.114163\n",
       "0    pickup_longitude     0.101687\n",
       "3    dropoff_latitude     0.055948\n",
       "1     pickup_latitude     0.035997\n",
       "8                year     0.033847\n",
       "5                hour     0.020552\n",
       "6                 day     0.011875\n",
       "7               month     0.011455\n",
       "9           dayofweek     0.009265\n",
       "4     passenger_count     0.003829"
      ]
     },
     "execution_count": 130,
     "metadata": {},
     "output_type": "execute_result"
    }
   ],
   "source": [
    "final_df # so this convey that we should not take more than 7 features"
   ]
  },
  {
   "cell_type": "code",
   "execution_count": 131,
   "id": "f0fe1c5b-e1ad-445d-b9f0-eb87cb2108ee",
   "metadata": {},
   "outputs": [
    {
     "data": {
      "image/png": "[encoded data removed]",
      "text/plain": [
       "<Figure size 432x288 with 1 Axes>"
      ]
     },
     "metadata": {
      "needs_background": "light"
     },
     "output_type": "display_data"
    }
   ],
   "source": [
    "final_df.plot (kind='barh', color = 'teal')\n",
    "plt.show()"
   ]
  },
  {
   "cell_type": "code",
   "execution_count": 132,
   "id": "a0fa8247-f559-40b3-a131-0d247c8d641b",
   "metadata": {},
   "outputs": [],
   "source": [
    "y_pred = rf.predict(X_test)"
   ]
  },
  {
   "cell_type": "code",
   "execution_count": 133,
   "id": "40a10314-a745-4d12-a1ef-2ce06e5864d5",
   "metadata": {},
   "outputs": [
    {
     "data": {
      "text/plain": [
       "array([ 8.12148524, 10.77371304, 11.94398914, ..., 13.59172408,\n",
       "        6.78686725,  8.62109351])"
      ]
     },
     "execution_count": 133,
     "metadata": {},
     "output_type": "execute_result"
    }
   ],
   "source": [
    "y_pred"
   ]
  },
  {
   "cell_type": "code",
   "execution_count": 134,
   "id": "3b104312-80f9-4f13-b7f1-2b530b4facd9",
   "metadata": {},
   "outputs": [],
   "source": [
    "r2=r2_score(y_test,y_pred)"
   ]
  },
  {
   "cell_type": "code",
   "execution_count": 135,
   "id": "1756a2c7-26ed-4aa5-8214-90a4d04c7cef",
   "metadata": {},
   "outputs": [
    {
     "data": {
      "text/plain": [
       "0.8313016525519572"
      ]
     },
     "execution_count": 135,
     "metadata": {},
     "output_type": "execute_result"
    }
   ],
   "source": [
    "r2"
   ]
  },
  {
   "cell_type": "code",
   "execution_count": 141,
   "id": "c0e6dd4c-9de9-4c42-a756-cd3c281f3f53",
   "metadata": {},
   "outputs": [],
   "source": [
    "from sklearn.metrics import mean_squared_error,accuracy_score"
   ]
  },
  {
   "cell_type": "code",
   "execution_count": 137,
   "id": "c711e6cc-cd95-4713-8e53-780ee57b2ffe",
   "metadata": {},
   "outputs": [],
   "source": [
    "MSE = mean_squared_error(y_test,y_pred)"
   ]
  },
  {
   "cell_type": "code",
   "execution_count": 138,
   "id": "44c5faed-d6b1-454d-a96f-ac5de1826625",
   "metadata": {},
   "outputs": [
    {
     "data": {
      "text/plain": [
       "4.82234610716714"
      ]
     },
     "execution_count": 138,
     "metadata": {},
     "output_type": "execute_result"
    }
   ],
   "source": [
    "MSE"
   ]
  },
  {
   "cell_type": "code",
   "execution_count": 139,
   "id": "ba8748a7-8a64-4f95-8b3b-4878fbfbd63a",
   "metadata": {},
   "outputs": [],
   "source": [
    "RMSE=np.sqrt(MSE)"
   ]
  },
  {
   "cell_type": "code",
   "execution_count": 140,
   "id": "54d7938f-4765-43af-a7c5-3cef1675d235",
   "metadata": {},
   "outputs": [
    {
     "data": {
      "text/plain": [
       "2.195984086273655"
      ]
     },
     "execution_count": 140,
     "metadata": {},
     "output_type": "execute_result"
    }
   ],
   "source": [
    "RMSE"
   ]
  },
  {
   "cell_type": "code",
   "execution_count": null,
   "id": "ad47444a-8354-4023-bcbc-c0d13a64b799",
   "metadata": {},
   "outputs": [],
   "source": []
  }
 ],
 "metadata": {
  "kernelspec": {
   "display_name": "Python 3.10.0 64-bit",
   "language": "python",
   "name": "python3100jvsc74a57bd0aee8b7b246df8f9039afb4144a1f6fd8d2ca17a180786b69acc140d282b71a49"
  },
  "language_info": {
   "codemirror_mode": {
    "name": "ipython",
    "version": 3
   },
   "file_extension": ".py",
   "mimetype": "text/x-python",
   "name": "python",
   "nbconvert_exporter": "python",
   "pygments_lexer": "ipython3",
   "version": "3.10.2"
  }
 },
 "nbformat": 4,
 "nbformat_minor": 5
}
